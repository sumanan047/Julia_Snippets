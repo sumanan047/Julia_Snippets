{
 "cells": [
  {
   "cell_type": "code",
   "execution_count": 1,
   "id": "d59897c5-bbc5-4329-8c57-d8bbf1ed914d",
   "metadata": {},
   "outputs": [
    {
     "data": {
      "text/plain": [
       "open_and_append"
      ]
     },
     "execution_count": 1,
     "metadata": {},
     "output_type": "execute_result"
    }
   ],
   "source": [
    "# API for io in Julia\n",
    "\"\"\"\n",
    "Description:\n",
    "------------\n",
    "Reads each line and puts them in a vector\n",
    "\n",
    "Parameter:\n",
    "----------\n",
    "File handle for the file.\n",
    "\"\"\"\n",
    "function read_lines_to_vector(filename::String)\n",
    "    open(filename) do io\n",
    "        readlines(io)\n",
    "    end\n",
    "end\n",
    "\n",
    "\n",
    "\"\"\"\n",
    "Opens a file of a given name and writes a string to it.\n",
    "\"\"\"\n",
    "function open_and_write(filename::String, str::String)\n",
    "    f = open(\"output.txt\", \"w\")\n",
    "    write(f, str)\n",
    "    close(f)\n",
    "end\n",
    "\n",
    "\n",
    "\"\"\"\n",
    "Opens a file of a given name and writes a string to it.\n",
    "\"\"\"\n",
    "function open_and_append(filename::String, str::String)\n",
    "    f = open(\"output.txt\", \"a\")\n",
    "    write(f, str)\n",
    "    close(f)\n",
    "end\n",
    "\n",
    "\"\"\"\n",
    "Reads all the files in a directory and sub-directories and produces a dictionary.\n",
    "\"\"\"\n"
   ]
  },
  {
   "cell_type": "code",
   "execution_count": 2,
   "id": "5ed40fea-a04d-4ac6-9391-5554e9848609",
   "metadata": {},
   "outputs": [
    {
     "data": {
      "text/plain": [
       "2-element Vector{String}:\n",
       " \"Hello Man, This is a cookbook or a kitchen itself\"\n",
       " \"Awesome job appending this to the text file.\""
      ]
     },
     "execution_count": 2,
     "metadata": {},
     "output_type": "execute_result"
    }
   ],
   "source": [
    "# implementations\n",
    "open_and_write(\"output.txt\", \"Hello Man, This is a cookbook or a kitchen itself\\n\")\n",
    "open_and_append(\"output.txt\", \"Awesome job appending this to the text file.\")\n",
    "vec = read_lines_to_vector(\"output.txt\")"
   ]
  },
  {
   "cell_type": "code",
   "execution_count": 3,
   "id": "59d89f74-77b9-49e7-a5ee-2775e08055b6",
   "metadata": {},
   "outputs": [
    {
     "data": {
      "text/plain": [
       "4-element Vector{String}:\n",
       " \".ipynb_checkpoints\"\n",
       " \"Basic_IO.ipynb\"\n",
       " \"Database.ipynb\"\n",
       " \"output.txt\""
      ]
     },
     "execution_count": 3,
     "metadata": {},
     "output_type": "execute_result"
    }
   ],
   "source": [
    "# lists all the files in the directory here current dir\n",
    "readdir(pwd())"
   ]
  }
 ],
 "metadata": {
  "kernelspec": {
   "display_name": "Julia 1.8.5",
   "language": "julia",
   "name": "julia-1.8"
  },
  "language_info": {
   "file_extension": ".jl",
   "mimetype": "application/julia",
   "name": "julia",
   "version": "1.8.5"
  }
 },
 "nbformat": 4,
 "nbformat_minor": 5
}
