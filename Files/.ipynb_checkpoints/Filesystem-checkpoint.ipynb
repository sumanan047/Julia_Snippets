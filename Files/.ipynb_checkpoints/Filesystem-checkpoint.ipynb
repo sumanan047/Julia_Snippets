{
 "cells": [
  {
   "cell_type": "code",
   "execution_count": 7,
   "id": "d59897c5-bbc5-4329-8c57-d8bbf1ed914d",
   "metadata": {},
   "outputs": [
    {
     "data": {
      "text/plain": [
       "walkdirprint"
      ]
     },
     "execution_count": 7,
     "metadata": {},
     "output_type": "execute_result"
    }
   ],
   "source": [
    "# API for io in Julia\n",
    "\"\"\"\n",
    "Description:\n",
    "------------\n",
    "Reads each line and puts them in a vector\n",
    "\n",
    "Parameter:\n",
    "----------\n",
    "File handle for the file.\n",
    "\"\"\"\n",
    "function read_lines_to_vector(filename::String)\n",
    "    open(filename) do io\n",
    "        readlines(io)\n",
    "    end\n",
    "end\n",
    "\n",
    "\n",
    "\"\"\"\n",
    "Opens a file of a given name and writes a string to it.\n",
    "\"\"\"\n",
    "function open_and_write(filename::String, str::String)\n",
    "    f = open(\"output.txt\", \"w\")\n",
    "    write(f, str)\n",
    "    close(f)\n",
    "end\n",
    "\n",
    "\n",
    "\"\"\"\n",
    "Opens a file of a given name and writes a string to it.\n",
    "\"\"\"\n",
    "function open_and_append(filename::String, str::String)\n",
    "    f = open(\"output.txt\", \"a\")\n",
    "    write(f, str)\n",
    "    close(f)\n",
    "end\n",
    "\n",
    "\"\"\"\n",
    "Reads all the files in a directory and sub-directories and produces a dictionary.\n",
    "\"\"\"\n",
    "function walkdirprint(dir::String)\n",
    "    for (root, dirs, files) in walkdir(\".\")\n",
    "        println(\"\\n\"^3)\n",
    "        println(\"=\"^20)\n",
    "        println(\"Directories in $root\")\n",
    "        println(\"x\"^20)\n",
    "        for dir in dirs\n",
    "            println(joinpath(root, dir)) # path to directories\n",
    "        end\n",
    "        println(\"Files in $root\")\n",
    "        println(\"-\"^20)\n",
    "        for file in files\n",
    "            println(joinpath(root, file)) # path to files\n",
    "        end\n",
    "    end\n",
    "end"
   ]
  },
  {
   "cell_type": "code",
   "execution_count": 2,
   "id": "5ed40fea-a04d-4ac6-9391-5554e9848609",
   "metadata": {},
   "outputs": [
    {
     "data": {
      "text/plain": [
       "2-element Vector{String}:\n",
       " \"Hello Man, This is a cookbook or a kitchen itself\"\n",
       " \"Awesome job appending this to the text file.\""
      ]
     },
     "execution_count": 2,
     "metadata": {},
     "output_type": "execute_result"
    }
   ],
   "source": [
    "# implementations\n",
    "open_and_write(\"output.txt\", \"Hello Man, This is a cookbook or a kitchen itself\\n\")\n",
    "open_and_append(\"output.txt\", \"Awesome job appending this to the text file.\")\n",
    "vec = read_lines_to_vector(\"output.txt\")"
   ]
  },
  {
   "cell_type": "markdown",
   "id": "a3ab6d2d-3616-46e1-8873-782c6e509de1",
   "metadata": {},
   "source": [
    "#### Filesystem commands"
   ]
  },
  {
   "cell_type": "markdown",
   "id": "ac6a50fe-3043-47cf-ab3c-95e43437ecbd",
   "metadata": {},
   "source": [
    "- current directory\n",
    "\n",
    "> pwd() -> String"
   ]
  },
  {
   "cell_type": "code",
   "execution_count": 3,
   "id": "d02a643c-5dfc-434e-a29e-6bb595eba8c7",
   "metadata": {},
   "outputs": [
    {
     "data": {
      "text/plain": [
       "\"/Users/sudofr/Documents/Programs/Julia/Julia_Snippets/Files\""
      ]
     },
     "execution_count": 3,
     "metadata": {},
     "output_type": "execute_result"
    }
   ],
   "source": [
    "pwd()"
   ]
  },
  {
   "cell_type": "markdown",
   "id": "35418462-18e1-4640-a288-d8203f2cbeeb",
   "metadata": {},
   "source": [
    "- change to a durectory\n",
    "\n",
    "> cd(\"/home/JuliaUser/Projects/julia\")\n",
    "It has two implementations: \n",
    "- cd(dir::AbstractString=homedir()) , this just changes the directory\n",
    "- cd(f::Function, dir::AbstractString=homedir()), this one temporarily changes applies function and them combes back to original"
   ]
  },
  {
   "cell_type": "code",
   "execution_count": 4,
   "id": "3969c07f-7c4d-4b01-bd1a-bf078ab726de",
   "metadata": {},
   "outputs": [],
   "source": [
    "cd(pwd())"
   ]
  },
  {
   "cell_type": "markdown",
   "id": "abb0c264-d8b0-4699-bcba-539923c3cb50",
   "metadata": {},
   "source": [
    "- read the directory for files and folders and return names in sorted order\n",
    "\n",
    "> call with base and join = true for complete absolute path"
   ]
  },
  {
   "cell_type": "code",
   "execution_count": 5,
   "id": "59d89f74-77b9-49e7-a5ee-2775e08055b6",
   "metadata": {},
   "outputs": [
    {
     "data": {
      "text/plain": [
       "3-element Vector{String}:\n",
       " \"/Users/.localized\"\n",
       " \"/Users/Shared\"\n",
       " \"/Users/sudofr\""
      ]
     },
     "execution_count": 5,
     "metadata": {},
     "output_type": "execute_result"
    }
   ],
   "source": [
    "# lists all the files in the directory here current dir\n",
    "readdir(\"/Users\",join=true)"
   ]
  },
  {
   "cell_type": "code",
   "execution_count": 10,
   "id": "31735e89-d053-4d7b-95bd-7f1db3d4b37f",
   "metadata": {},
   "outputs": [
    {
     "data": {
      "text/plain": [
       "StatStruct for \"Database.ipynb\"\n",
       "   size: 473 bytes\n",
       " device: 16777234\n",
       "  inode: 34906567\n",
       "   mode: 0o100644 (-rw-r--r--)\n",
       "  nlink: 1\n",
       "    uid: 501 (sudofr)\n",
       "    gid: 20 (staff)\n",
       "   rdev: 0\n",
       "  blksz: 4096\n",
       " blocks: 8\n",
       "  mtime: 2023-12-28T21:51:03-0600 (15 hours ago)\n",
       "  ctime: 2023-12-28T21:51:07-0600 (15 hours ago)"
      ]
     },
     "execution_count": 10,
     "metadata": {},
     "output_type": "execute_result"
    }
   ],
   "source": [
    "# returns information on the file\n",
    "stat(\"Database.ipynb\")"
   ]
  },
  {
   "cell_type": "code",
   "execution_count": null,
   "id": "6c595eb9-35d5-4b18-b5c9-92a33aa0485a",
   "metadata": {},
   "outputs": [],
   "source": []
  }
 ],
 "metadata": {
  "kernelspec": {
   "display_name": "Julia 1.8.5",
   "language": "julia",
   "name": "julia-1.8"
  },
  "language_info": {
   "file_extension": ".jl",
   "mimetype": "application/julia",
   "name": "julia",
   "version": "1.8.5"
  }
 },
 "nbformat": 4,
 "nbformat_minor": 5
}
