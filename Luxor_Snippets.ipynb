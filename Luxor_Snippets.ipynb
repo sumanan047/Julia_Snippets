{
 "cells": [
  {
   "cell_type": "markdown",
   "id": "a71a7a72-9160-4851-9aed-256e79e72dd9",
   "metadata": {},
   "source": [
    "<h1 style=\"text-align:center\"> Luxor commands </h1>\n",
    "\n",
    ">\n",
    "- Author: Suman Saurabh\n",
    "- Email: sumanan047@gmail.com\n",
    "- Updated: Dec $28^{th}$ 2023"
   ]
  },
  {
   "cell_type": "markdown",
   "id": "d9ae4563-ca76-4ed9-9b8f-9094d49231cd",
   "metadata": {},
   "source": [
    "### 1. Install Luxor"
   ]
  },
  {
   "cell_type": "code",
   "execution_count": 1,
   "id": "a586f673-7b6d-4a7a-b239-9e5b923e2c9f",
   "metadata": {},
   "outputs": [],
   "source": [
    "# I already have it in y environment,other wise run the command commented below\n",
    "# using Pkg; Pkg.add(\"Luxor\")"
   ]
  },
  {
   "cell_type": "code",
   "execution_count": 2,
   "id": "8e81c332-8a83-46ff-91cc-4537a84fe277",
   "metadata": {},
   "outputs": [
    {
     "name": "stderr",
     "output_type": "stream",
     "text": [
      "\u001b[32m\u001b[1m  Activating\u001b[22m\u001b[39m project at `~/Documents/Programs/Julia/Julia_Snippets`\n"
     ]
    }
   ],
   "source": [
    "# activates the current folder environment\n",
    "using Pkg;Pkg.activate(\".\")"
   ]
  },
  {
   "cell_type": "code",
   "execution_count": 3,
   "id": "aa0ebb56-10f1-4729-894b-a736ecd89d48",
   "metadata": {},
   "outputs": [
    {
     "name": "stdout",
     "output_type": "stream",
     "text": [
      "\u001b[32m\u001b[1mStatus\u001b[22m\u001b[39m `~/Documents/Programs/Julia/Julia_Snippets/Project.toml`\n",
      " \u001b[90m [ae8d54c2] \u001b[39mLuxor v3.8.0\n",
      " \u001b[90m [295af30f] \u001b[39mRevise v3.5.10\n"
     ]
    }
   ],
   "source": [
    "# check the status of the project installed packages\n",
    "using Pkg;Pkg.status()"
   ]
  },
  {
   "cell_type": "markdown",
   "id": "3de3432c-a8e7-4695-aec9-b8c65b1f4446",
   "metadata": {},
   "source": [
    "### 2. Start Turtle using Luxor"
   ]
  },
  {
   "cell_type": "code",
   "execution_count": 4,
   "id": "6dd0b807-dcc5-45b0-be84-f241130ed5dc",
   "metadata": {},
   "outputs": [
    {
     "data": {
      "text/plain": [
       "Turtle(0.0, 0.0, true, 0.0, (0.0, 0.0, 0.0))"
      ]
     },
     "execution_count": 4,
     "metadata": {},
     "output_type": "execute_result"
    }
   ],
   "source": [
    "using Luxor\n",
    "t = Luxor.Turtle()\n",
    "# have a look at down\n",
    "# Turtle has the following attribs x,y, pendown_status, Orientation, Pen_color (a tuple of RGB)"
   ]
  },
  {
   "cell_type": "code",
   "execution_count": 5,
   "id": "9b44caa8-efb7-4fd0-ab52-1919609a70b8",
   "metadata": {},
   "outputs": [
    {
     "name": "stdout",
     "output_type": "stream",
     "text": [
      "The position of turtle are x-cord :-> 0.0 and y-cord :-> 0.0.\n"
     ]
    }
   ],
   "source": [
    "# find the x and y points of the turtle and change it to elsewhere\n",
    "println(\"The position of turtle are x-cord :-> $(t.xpos) and y-cord :-> $(t.ypos).\")"
   ]
  },
  {
   "cell_type": "markdown",
   "id": "93d29c08-35c1-48ef-be87-5013957a84da",
   "metadata": {},
   "source": [
    "#### 2.1. Simple turtle movement and basic manipulation of the turtle behavior"
   ]
  },
  {
   "cell_type": "code",
   "execution_count": 6,
   "id": "076c9461-8375-478a-8644-120896e6ac2a",
   "metadata": {},
   "outputs": [
    {
     "data": {
      "image/svg+xml": [
       "<?xml version=\"1.0\" encoding=\"UTF-8\"?>\n",
       "<svg xmlns=\"http://www.w3.org/2000/svg\" xmlns:xlink=\"http://www.w3.org/1999/xlink\" width=\"500pt\" height=\"500pt\" viewBox=\"0 0 500 500\" version=\"1.1\">\n",
       "<g id=\"surface4\">\n",
       "<rect x=\"0\" y=\"0\" width=\"500\" height=\"500\" style=\"fill:rgb(0%,0%,0%);fill-opacity:1;stroke:none;\"/>\n",
       "<path style=\"fill:none;stroke-width:2;stroke-linecap:butt;stroke-linejoin:miter;stroke:rgb(100%,50%,50%);stroke-opacity:1;stroke-miterlimit:10;\" d=\"M 150 250 L 350 250 \"/>\n",
       "<path style=\"fill:none;stroke-width:2;stroke-linecap:butt;stroke-linejoin:miter;stroke:rgb(100%,50%,50%);stroke-opacity:1;stroke-miterlimit:10;\" d=\"M 350 250 L 350 400 \"/>\n",
       "<path style=\"fill:none;stroke-width:2;stroke-linecap:butt;stroke-linejoin:miter;stroke:rgb(100%,100%,100%);stroke-opacity:1;stroke-miterlimit:10;\" d=\"M 250 250 L 450 250 \"/>\n",
       "<path style=\"fill:none;stroke-width:2;stroke-linecap:butt;stroke-linejoin:miter;stroke:rgb(100%,100%,100%);stroke-opacity:1;stroke-miterlimit:10;\" d=\"M 450 250 L 450 400 \"/>\n",
       "</g>\n",
       "</svg>\n"
      ],
      "text/plain": []
     },
     "execution_count": 6,
     "metadata": {},
     "output_type": "execute_result"
    }
   ],
   "source": [
    "# draw one with stating position -100, 0 and then next 0,0\n",
    "@svg begin\n",
    "    Drawing(500,500, \"Basic_turtle_manipulation.svg\") \n",
    "    background(\"black\")\n",
    "    origin()\n",
    "    Reposition(t, -100.0,0.0)\n",
    "    t.pencolor = (1,0.5,0.5)\n",
    "    # moves the turtle forward (orientation is zer means towards +ve x-axis\n",
    "    Forward(t,200)\n",
    "    # turn 90 means turning clockwise\n",
    "    Turn(t, 90)\n",
    "    # again moving forward along the orintation\n",
    "    Forward(t, 150)\n",
    "    # Now I change the turtle properties in the midst\n",
    "    Reposition(t, 0,0)  # reposition to anypoint\n",
    "    Orientation(t,0.0)  # set the orientation like before\n",
    "    t.pencolor = (1.0,1.0,1.0) # set a different pencolor for visialuzation\n",
    "    # again making the same shape like before\n",
    "    Forward(t,200)\n",
    "    Turn(t, 90)\n",
    "    Forward(t, 150)\n",
    "end"
   ]
  },
  {
   "cell_type": "code",
   "execution_count": null,
   "id": "2ee6e40c-7e27-4765-9af1-6f5a0e446843",
   "metadata": {},
   "outputs": [],
   "source": []
  }
 ],
 "metadata": {
  "kernelspec": {
   "display_name": "Julia 1.8.5",
   "language": "julia",
   "name": "julia-1.8"
  },
  "language_info": {
   "file_extension": ".jl",
   "mimetype": "application/julia",
   "name": "julia",
   "version": "1.8.5"
  }
 },
 "nbformat": 4,
 "nbformat_minor": 5
}
