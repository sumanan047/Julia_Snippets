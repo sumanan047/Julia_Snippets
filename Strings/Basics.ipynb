{
 "cells": [
  {
   "cell_type": "markdown",
   "id": "ad843961-7068-43a4-b01b-3632c7bda701",
   "metadata": {},
   "source": [
    "#### 1.0 Count all the characters in the string and plot the bars"
   ]
  },
  {
   "cell_type": "code",
   "execution_count": 1,
   "id": "eaae72d2-7dfd-4d94-ab4f-940244b2beb5",
   "metadata": {},
   "outputs": [],
   "source": [
    "# add all the required packages before\n",
    "using Plots"
   ]
  },
  {
   "cell_type": "code",
   "execution_count": 2,
   "id": "850ea346-d2c2-4e69-8428-1debe6a5eb18",
   "metadata": {},
   "outputs": [
    {
     "data": {
      "text/plain": [
       "plot_dict"
      ]
     },
     "execution_count": 2,
     "metadata": {},
     "output_type": "execute_result"
    }
   ],
   "source": [
    "\"\"\"\n",
    "Description:\n",
    "------------\n",
    "Counts the character in the string.\n",
    "\n",
    "Parameters:\n",
    "-----------\n",
    "s: String\n",
    "The string that needs to be analyzed.\n",
    "\"\"\"\n",
    "function character_count(str::String)\n",
    "    dic = Dict()\n",
    "    for char in str\n",
    "        if char ∉ keys(d)\n",
    "            # if character is never in string then count once\n",
    "            dic[char] = 1\n",
    "        else\n",
    "            # else if seen again increase count by one\n",
    "            dic[char] += 1\n",
    "        end\n",
    "    end\n",
    "    return dic\n",
    "end\n",
    "\n",
    "\n",
    "\"\"\"\n",
    "Description:\n",
    "------------\n",
    "Plots the values against keys for a dictionary.\n",
    "\n",
    "Parameters:\n",
    "-----------\n",
    "dict: dicrionary that is to be used for plotting\n",
    "xlable: label for x-axis\n",
    "ylabel: label for y-axis\n",
    "lable: label for the curve\n",
    "title: title for the plot\n",
    "\"\"\"\n",
    "function plot_dict(dict::Dict, \n",
    "                    xlabel::String=\"xlabel\",\n",
    "                    ylabel::String=\"ylabel\",\n",
    "                    label::String=\"label\",\n",
    "                    title::String=\"title\")\n",
    "    keys_array = collect(keys(dict))\n",
    "    values_array = collect(values(dict))\n",
    "    bar((keys_array), (values_array), xlabel = xlabel, ylabel = ylabel, label = label, show=true)\n",
    "    title!(title)\n",
    "end"
   ]
  },
  {
   "cell_type": "code",
   "execution_count": 3,
   "id": "846acb8f-8a10-486a-8fcf-55524bdee324",
   "metadata": {},
   "outputs": [
    {
     "data": {
      "image/svg+xml": [
       "<?xml version=\"1.0\" encoding=\"utf-8\"?>\n",
       "<svg xmlns=\"http://www.w3.org/2000/svg\" xmlns:xlink=\"http://www.w3.org/1999/xlink\" width=\"600\" height=\"400\" viewBox=\"0 0 2400 1600\">\n",
       "<defs>\n",
       "  <clipPath id=\"clip490\">\n",
       "    <rect x=\"0\" y=\"0\" width=\"2400\" height=\"1600\"/>\n",
       "  </clipPath>\n",
       "</defs>\n",
       "<path clip-path=\"url(#clip490)\" d=\"M0 1600 L2400 1600 L2400 0 L0 0  Z\" fill=\"#ffffff\" fill-rule=\"evenodd\" fill-opacity=\"1\"/>\n",
       "<defs>\n",
       "  <clipPath id=\"clip491\">\n",
       "    <rect x=\"480\" y=\"0\" width=\"1681\" height=\"1600\"/>\n",
       "  </clipPath>\n",
       "</defs>\n",
       "<path clip-path=\"url(#clip490)\" d=\"M202.227 1423.18 L2352.76 1423.18 L2352.76 123.472 L202.227 123.472  Z\" fill=\"#ffffff\" fill-rule=\"evenodd\" fill-opacity=\"1\"/>\n",
       "<defs>\n",
       "  <clipPath id=\"clip492\">\n",
       "    <rect x=\"202\" y=\"123\" width=\"2152\" height=\"1301\"/>\n",
       "  </clipPath>\n",
       "</defs>\n",
       "<polyline clip-path=\"url(#clip492)\" style=\"stroke:#000000; stroke-linecap:round; stroke-linejoin:round; stroke-width:2; stroke-opacity:0.1; fill:none\" points=\"521.98,1423.18 521.98,123.472 \"/>\n",
       "<polyline clip-path=\"url(#clip492)\" style=\"stroke:#000000; stroke-linecap:round; stroke-linejoin:round; stroke-width:2; stroke-opacity:0.1; fill:none\" points=\"773.817,1423.18 773.817,123.472 \"/>\n",
       "<polyline clip-path=\"url(#clip492)\" style=\"stroke:#000000; stroke-linecap:round; stroke-linejoin:round; stroke-width:2; stroke-opacity:0.1; fill:none\" points=\"1025.65,1423.18 1025.65,123.472 \"/>\n",
       "<polyline clip-path=\"url(#clip492)\" style=\"stroke:#000000; stroke-linecap:round; stroke-linejoin:round; stroke-width:2; stroke-opacity:0.1; fill:none\" points=\"1277.49,1423.18 1277.49,123.472 \"/>\n",
       "<polyline clip-path=\"url(#clip492)\" style=\"stroke:#000000; stroke-linecap:round; stroke-linejoin:round; stroke-width:2; stroke-opacity:0.1; fill:none\" points=\"1529.33,1423.18 1529.33,123.472 \"/>\n",
       "<polyline clip-path=\"url(#clip492)\" style=\"stroke:#000000; stroke-linecap:round; stroke-linejoin:round; stroke-width:2; stroke-opacity:0.1; fill:none\" points=\"1781.17,1423.18 1781.17,123.472 \"/>\n",
       "<polyline clip-path=\"url(#clip492)\" style=\"stroke:#000000; stroke-linecap:round; stroke-linejoin:round; stroke-width:2; stroke-opacity:0.1; fill:none\" points=\"2033,1423.18 2033,123.472 \"/>\n",
       "<polyline clip-path=\"url(#clip490)\" style=\"stroke:#000000; stroke-linecap:round; stroke-linejoin:round; stroke-width:4; stroke-opacity:1; fill:none\" points=\"202.227,1423.18 2352.76,1423.18 \"/>\n",
       "<polyline clip-path=\"url(#clip490)\" style=\"stroke:#000000; stroke-linecap:round; stroke-linejoin:round; stroke-width:4; stroke-opacity:1; fill:none\" points=\"521.98,1423.18 521.98,1404.28 \"/>\n",
       "<polyline clip-path=\"url(#clip490)\" style=\"stroke:#000000; stroke-linecap:round; stroke-linejoin:round; stroke-width:4; stroke-opacity:1; fill:none\" points=\"773.817,1423.18 773.817,1404.28 \"/>\n",
       "<polyline clip-path=\"url(#clip490)\" style=\"stroke:#000000; stroke-linecap:round; stroke-linejoin:round; stroke-width:4; stroke-opacity:1; fill:none\" points=\"1025.65,1423.18 1025.65,1404.28 \"/>\n",
       "<polyline clip-path=\"url(#clip490)\" style=\"stroke:#000000; stroke-linecap:round; stroke-linejoin:round; stroke-width:4; stroke-opacity:1; fill:none\" points=\"1277.49,1423.18 1277.49,1404.28 \"/>\n",
       "<polyline clip-path=\"url(#clip490)\" style=\"stroke:#000000; stroke-linecap:round; stroke-linejoin:round; stroke-width:4; stroke-opacity:1; fill:none\" points=\"1529.33,1423.18 1529.33,1404.28 \"/>\n",
       "<polyline clip-path=\"url(#clip490)\" style=\"stroke:#000000; stroke-linecap:round; stroke-linejoin:round; stroke-width:4; stroke-opacity:1; fill:none\" points=\"1781.17,1423.18 1781.17,1404.28 \"/>\n",
       "<polyline clip-path=\"url(#clip490)\" style=\"stroke:#000000; stroke-linecap:round; stroke-linejoin:round; stroke-width:4; stroke-opacity:1; fill:none\" points=\"2033,1423.18 2033,1404.28 \"/>\n",
       "<path clip-path=\"url(#clip490)\" d=\"M504.584 1459.65 L508.844 1459.65 L514.168 1479.89 L519.469 1459.65 L524.492 1459.65 L529.816 1479.89 L535.117 1459.65 L539.376 1459.65 L532.593 1485.58 L527.57 1485.58 L521.992 1464.33 L516.39 1485.58 L511.367 1485.58 L504.584 1459.65 Z\" fill=\"#000000\" fill-rule=\"nonzero\" fill-opacity=\"1\" /><path clip-path=\"url(#clip490)\" d=\"M773.817 1462.64 Q770.391 1462.64 768.401 1465.33 Q766.41 1467.99 766.41 1472.64 Q766.41 1477.29 768.378 1479.98 Q770.368 1482.64 773.817 1482.64 Q777.22 1482.64 779.211 1479.95 Q781.202 1477.27 781.202 1472.64 Q781.202 1468.03 779.211 1465.35 Q777.22 1462.64 773.817 1462.64 M773.817 1459.03 Q779.373 1459.03 782.544 1462.64 Q785.715 1466.25 785.715 1472.64 Q785.715 1479.01 782.544 1482.64 Q779.373 1486.25 773.817 1486.25 Q768.239 1486.25 765.067 1482.64 Q761.919 1479.01 761.919 1472.64 Q761.919 1466.25 765.067 1462.64 Q768.239 1459.03 773.817 1459.03 Z\" fill=\"#000000\" fill-rule=\"nonzero\" fill-opacity=\"1\" /><path clip-path=\"url(#clip490)\" d=\"M1023.52 1459.65 L1027.78 1459.65 L1027.78 1485.58 L1023.52 1485.58 L1023.52 1459.65 M1023.52 1449.56 L1027.78 1449.56 L1027.78 1454.96 L1023.52 1454.96 L1023.52 1449.56 Z\" fill=\"#000000\" fill-rule=\"nonzero\" fill-opacity=\"1\" /><path clip-path=\"url(#clip490)\" d=\"M1278.72 1487.99 Q1276.91 1492.62 1275.2 1494.03 Q1273.49 1495.44 1270.62 1495.44 L1267.21 1495.44 L1267.21 1491.88 L1269.71 1491.88 Q1271.47 1491.88 1272.45 1491.04 Q1273.42 1490.21 1274.6 1487.11 L1275.36 1485.16 L1264.88 1459.65 L1269.39 1459.65 L1277.49 1479.93 L1285.59 1459.65 L1290.11 1459.65 L1278.72 1487.99 Z\" fill=\"#000000\" fill-rule=\"nonzero\" fill-opacity=\"1\" /><path clip-path=\"url(#clip490)\" d=\"M1522.85 1454.86 L1522.85 1467.85 L1528.73 1467.85 Q1531.99 1467.85 1533.77 1466.16 Q1535.56 1464.47 1535.56 1461.34 Q1535.56 1458.24 1533.77 1456.55 Q1531.99 1454.86 1528.73 1454.86 L1522.85 1454.86 M1518.17 1451.02 L1528.73 1451.02 Q1534.54 1451.02 1537.5 1453.66 Q1540.49 1456.27 1540.49 1461.34 Q1540.49 1466.46 1537.5 1469.08 Q1534.54 1471.69 1528.73 1471.69 L1522.85 1471.69 L1522.85 1485.58 L1518.17 1485.58 L1518.17 1451.02 Z\" fill=\"#000000\" fill-rule=\"nonzero\" fill-opacity=\"1\" /><path clip-path=\"url(#clip490)\" d=\"M1766.55 1451.02 L1795.78 1451.02 L1795.78 1454.96 L1783.52 1454.96 L1783.52 1485.58 L1778.82 1485.58 L1778.82 1454.96 L1766.55 1454.96 L1766.55 1451.02 Z\" fill=\"#000000\" fill-rule=\"nonzero\" fill-opacity=\"1\" /><path clip-path=\"url(#clip490)\" d=\"M2040.33 1472.32 Q2040.33 1467.69 2038.41 1465.14 Q2036.51 1462.59 2033.06 1462.59 Q2029.64 1462.59 2027.71 1465.14 Q2025.82 1467.69 2025.82 1472.32 Q2025.82 1476.92 2027.71 1479.47 Q2029.64 1482.02 2033.06 1482.02 Q2036.51 1482.02 2038.41 1479.47 Q2040.33 1476.92 2040.33 1472.32 M2044.59 1482.36 Q2044.59 1488.98 2041.65 1492.2 Q2038.71 1495.44 2032.64 1495.44 Q2030.4 1495.44 2028.41 1495.09 Q2026.42 1494.77 2024.54 1494.08 L2024.54 1489.93 Q2026.42 1490.95 2028.25 1491.44 Q2030.08 1491.92 2031.97 1491.92 Q2036.16 1491.92 2038.25 1489.72 Q2040.33 1487.55 2040.33 1483.13 L2040.33 1481.02 Q2039.01 1483.31 2036.95 1484.45 Q2034.89 1485.58 2032.02 1485.58 Q2027.25 1485.58 2024.33 1481.95 Q2021.42 1478.31 2021.42 1472.32 Q2021.42 1466.3 2024.33 1462.66 Q2027.25 1459.03 2032.02 1459.03 Q2034.89 1459.03 2036.95 1460.16 Q2039.01 1461.3 2040.33 1463.59 L2040.33 1459.65 L2044.59 1459.65 L2044.59 1482.36 Z\" fill=\"#000000\" fill-rule=\"nonzero\" fill-opacity=\"1\" /><path clip-path=\"url(#clip490)\" d=\"M1217.27 1532.4 L1204.38 1549.74 L1217.94 1568.04 L1211.03 1568.04 L1200.66 1554.04 L1190.28 1568.04 L1183.37 1568.04 L1197.22 1549.39 L1184.55 1532.4 L1191.46 1532.4 L1200.91 1545.1 L1210.37 1532.4 L1217.27 1532.4 Z\" fill=\"#000000\" fill-rule=\"nonzero\" fill-opacity=\"1\" /><path clip-path=\"url(#clip490)\" d=\"M1226.22 1518.52 L1232.07 1518.52 L1232.07 1568.04 L1226.22 1568.04 L1226.22 1518.52 Z\" fill=\"#000000\" fill-rule=\"nonzero\" fill-opacity=\"1\" /><path clip-path=\"url(#clip490)\" d=\"M1260.53 1550.12 Q1253.43 1550.12 1250.69 1551.75 Q1247.95 1553.37 1247.95 1557.29 Q1247.95 1560.4 1249.99 1562.25 Q1252.06 1564.07 1255.59 1564.07 Q1260.46 1564.07 1263.39 1560.63 Q1266.35 1557.16 1266.35 1551.43 L1266.35 1550.12 L1260.53 1550.12 M1272.21 1547.71 L1272.21 1568.04 L1266.35 1568.04 L1266.35 1562.63 Q1264.35 1565.88 1261.35 1567.44 Q1258.36 1568.97 1254.03 1568.97 Q1248.56 1568.97 1245.31 1565.91 Q1242.1 1562.82 1242.1 1557.67 Q1242.1 1551.65 1246.11 1548.6 Q1250.15 1545.54 1258.14 1545.54 L1266.35 1545.54 L1266.35 1544.97 Q1266.35 1540.93 1263.68 1538.73 Q1261.04 1536.5 1256.23 1536.5 Q1253.17 1536.5 1250.28 1537.23 Q1247.38 1537.97 1244.71 1539.43 L1244.71 1534.02 Q1247.92 1532.78 1250.95 1532.17 Q1253.97 1531.54 1256.83 1531.54 Q1264.57 1531.54 1268.39 1535.55 Q1272.21 1539.56 1272.21 1547.71 Z\" fill=\"#000000\" fill-rule=\"nonzero\" fill-opacity=\"1\" /><path clip-path=\"url(#clip490)\" d=\"M1309.86 1550.25 Q1309.86 1543.79 1307.19 1540.13 Q1304.55 1536.44 1299.9 1536.44 Q1295.25 1536.44 1292.58 1540.13 Q1289.94 1543.79 1289.94 1550.25 Q1289.94 1556.71 1292.58 1560.4 Q1295.25 1564.07 1299.9 1564.07 Q1304.55 1564.07 1307.19 1560.4 Q1309.86 1556.71 1309.86 1550.25 M1289.94 1537.81 Q1291.78 1534.62 1294.58 1533.1 Q1297.42 1531.54 1301.33 1531.54 Q1307.82 1531.54 1311.87 1536.69 Q1315.94 1541.85 1315.94 1550.25 Q1315.94 1558.65 1311.87 1563.81 Q1307.82 1568.97 1301.33 1568.97 Q1297.42 1568.97 1294.58 1567.44 Q1291.78 1565.88 1289.94 1562.7 L1289.94 1568.04 L1284.05 1568.04 L1284.05 1518.52 L1289.94 1518.52 L1289.94 1537.81 Z\" fill=\"#000000\" fill-rule=\"nonzero\" fill-opacity=\"1\" /><path clip-path=\"url(#clip490)\" d=\"M1356.14 1548.76 L1356.14 1551.62 L1329.21 1551.62 Q1329.59 1557.67 1332.84 1560.85 Q1336.12 1564 1341.94 1564 Q1345.32 1564 1348.47 1563.17 Q1351.65 1562.35 1354.77 1560.69 L1354.77 1566.23 Q1351.62 1567.57 1348.31 1568.27 Q1345 1568.97 1341.59 1568.97 Q1333.06 1568.97 1328.07 1564 Q1323.1 1559.04 1323.1 1550.57 Q1323.1 1541.82 1327.81 1536.69 Q1332.56 1531.54 1340.58 1531.54 Q1347.77 1531.54 1351.94 1536.18 Q1356.14 1540.8 1356.14 1548.76 M1350.28 1547.04 Q1350.22 1542.23 1347.58 1539.37 Q1344.97 1536.5 1340.64 1536.5 Q1335.74 1536.5 1332.78 1539.27 Q1329.85 1542.04 1329.4 1547.07 L1350.28 1547.04 Z\" fill=\"#000000\" fill-rule=\"nonzero\" fill-opacity=\"1\" /><path clip-path=\"url(#clip490)\" d=\"M1365.75 1518.52 L1371.61 1518.52 L1371.61 1568.04 L1365.75 1568.04 L1365.75 1518.52 Z\" fill=\"#000000\" fill-rule=\"nonzero\" fill-opacity=\"1\" /><polyline clip-path=\"url(#clip492)\" style=\"stroke:#000000; stroke-linecap:round; stroke-linejoin:round; stroke-width:2; stroke-opacity:0.1; fill:none\" points=\"202.227,1423.18 2352.76,1423.18 \"/>\n",
       "<polyline clip-path=\"url(#clip492)\" style=\"stroke:#000000; stroke-linecap:round; stroke-linejoin:round; stroke-width:2; stroke-opacity:0.1; fill:none\" points=\"202.227,1206.56 2352.76,1206.56 \"/>\n",
       "<polyline clip-path=\"url(#clip492)\" style=\"stroke:#000000; stroke-linecap:round; stroke-linejoin:round; stroke-width:2; stroke-opacity:0.1; fill:none\" points=\"202.227,989.944 2352.76,989.944 \"/>\n",
       "<polyline clip-path=\"url(#clip492)\" style=\"stroke:#000000; stroke-linecap:round; stroke-linejoin:round; stroke-width:2; stroke-opacity:0.1; fill:none\" points=\"202.227,773.326 2352.76,773.326 \"/>\n",
       "<polyline clip-path=\"url(#clip492)\" style=\"stroke:#000000; stroke-linecap:round; stroke-linejoin:round; stroke-width:2; stroke-opacity:0.1; fill:none\" points=\"202.227,556.708 2352.76,556.708 \"/>\n",
       "<polyline clip-path=\"url(#clip492)\" style=\"stroke:#000000; stroke-linecap:round; stroke-linejoin:round; stroke-width:2; stroke-opacity:0.1; fill:none\" points=\"202.227,340.09 2352.76,340.09 \"/>\n",
       "<polyline clip-path=\"url(#clip492)\" style=\"stroke:#000000; stroke-linecap:round; stroke-linejoin:round; stroke-width:2; stroke-opacity:0.1; fill:none\" points=\"202.227,123.472 2352.76,123.472 \"/>\n",
       "<polyline clip-path=\"url(#clip490)\" style=\"stroke:#000000; stroke-linecap:round; stroke-linejoin:round; stroke-width:4; stroke-opacity:1; fill:none\" points=\"202.227,1423.18 202.227,123.472 \"/>\n",
       "<polyline clip-path=\"url(#clip490)\" style=\"stroke:#000000; stroke-linecap:round; stroke-linejoin:round; stroke-width:4; stroke-opacity:1; fill:none\" points=\"202.227,1423.18 221.125,1423.18 \"/>\n",
       "<polyline clip-path=\"url(#clip490)\" style=\"stroke:#000000; stroke-linecap:round; stroke-linejoin:round; stroke-width:4; stroke-opacity:1; fill:none\" points=\"202.227,1206.56 221.125,1206.56 \"/>\n",
       "<polyline clip-path=\"url(#clip490)\" style=\"stroke:#000000; stroke-linecap:round; stroke-linejoin:round; stroke-width:4; stroke-opacity:1; fill:none\" points=\"202.227,989.944 221.125,989.944 \"/>\n",
       "<polyline clip-path=\"url(#clip490)\" style=\"stroke:#000000; stroke-linecap:round; stroke-linejoin:round; stroke-width:4; stroke-opacity:1; fill:none\" points=\"202.227,773.326 221.125,773.326 \"/>\n",
       "<polyline clip-path=\"url(#clip490)\" style=\"stroke:#000000; stroke-linecap:round; stroke-linejoin:round; stroke-width:4; stroke-opacity:1; fill:none\" points=\"202.227,556.708 221.125,556.708 \"/>\n",
       "<polyline clip-path=\"url(#clip490)\" style=\"stroke:#000000; stroke-linecap:round; stroke-linejoin:round; stroke-width:4; stroke-opacity:1; fill:none\" points=\"202.227,340.09 221.125,340.09 \"/>\n",
       "<polyline clip-path=\"url(#clip490)\" style=\"stroke:#000000; stroke-linecap:round; stroke-linejoin:round; stroke-width:4; stroke-opacity:1; fill:none\" points=\"202.227,123.472 221.125,123.472 \"/>\n",
       "<path clip-path=\"url(#clip490)\" d=\"M154.283 1408.98 Q150.672 1408.98 148.843 1412.54 Q147.038 1416.08 147.038 1423.21 Q147.038 1430.32 148.843 1433.89 Q150.672 1437.43 154.283 1437.43 Q157.917 1437.43 159.723 1433.89 Q161.552 1430.32 161.552 1423.21 Q161.552 1416.08 159.723 1412.54 Q157.917 1408.98 154.283 1408.98 M154.283 1405.27 Q160.093 1405.27 163.149 1409.88 Q166.227 1414.46 166.227 1423.21 Q166.227 1431.94 163.149 1436.55 Q160.093 1441.13 154.283 1441.13 Q148.473 1441.13 145.394 1436.55 Q142.339 1431.94 142.339 1423.21 Q142.339 1414.46 145.394 1409.88 Q148.473 1405.27 154.283 1405.27 Z\" fill=\"#000000\" fill-rule=\"nonzero\" fill-opacity=\"1\" /><path clip-path=\"url(#clip490)\" d=\"M149.908 1219.91 L166.227 1219.91 L166.227 1223.84 L144.283 1223.84 L144.283 1219.91 Q146.945 1217.15 151.528 1212.52 Q156.135 1207.87 157.315 1206.53 Q159.561 1204 160.44 1202.27 Q161.343 1200.51 161.343 1198.82 Q161.343 1196.06 159.399 1194.33 Q157.478 1192.59 154.376 1192.59 Q152.177 1192.59 149.723 1193.36 Q147.292 1194.12 144.515 1195.67 L144.515 1190.95 Q147.339 1189.81 149.792 1189.24 Q152.246 1188.66 154.283 1188.66 Q159.653 1188.66 162.848 1191.34 Q166.042 1194.03 166.042 1198.52 Q166.042 1200.65 165.232 1202.57 Q164.445 1204.47 162.339 1207.06 Q161.76 1207.73 158.658 1210.95 Q155.556 1214.14 149.908 1219.91 Z\" fill=\"#000000\" fill-rule=\"nonzero\" fill-opacity=\"1\" /><path clip-path=\"url(#clip490)\" d=\"M156.644 976.738 L144.839 995.187 L156.644 995.187 L156.644 976.738 M155.417 972.664 L161.297 972.664 L161.297 995.187 L166.227 995.187 L166.227 999.076 L161.297 999.076 L161.297 1007.22 L156.644 1007.22 L156.644 999.076 L141.042 999.076 L141.042 994.562 L155.417 972.664 Z\" fill=\"#000000\" fill-rule=\"nonzero\" fill-opacity=\"1\" /><path clip-path=\"url(#clip490)\" d=\"M154.7 771.463 Q151.552 771.463 149.7 773.615 Q147.871 775.768 147.871 779.518 Q147.871 783.245 149.7 785.421 Q151.552 787.574 154.7 787.574 Q157.848 787.574 159.677 785.421 Q161.528 783.245 161.528 779.518 Q161.528 775.768 159.677 773.615 Q157.848 771.463 154.7 771.463 M163.982 756.81 L163.982 761.069 Q162.223 760.236 160.417 759.796 Q158.635 759.356 156.876 759.356 Q152.246 759.356 149.792 762.481 Q147.362 765.606 147.015 771.926 Q148.38 769.912 150.441 768.847 Q152.501 767.759 154.978 767.759 Q160.186 767.759 163.195 770.93 Q166.227 774.078 166.227 779.518 Q166.227 784.842 163.079 788.06 Q159.931 791.277 154.7 791.277 Q148.704 791.277 145.533 786.694 Q142.362 782.088 142.362 773.361 Q142.362 765.166 146.251 760.305 Q150.14 755.421 156.69 755.421 Q158.45 755.421 160.232 755.768 Q162.038 756.115 163.982 756.81 Z\" fill=\"#000000\" fill-rule=\"nonzero\" fill-opacity=\"1\" /><path clip-path=\"url(#clip490)\" d=\"M154.376 557.576 Q151.042 557.576 149.121 559.358 Q147.223 561.141 147.223 564.266 Q147.223 567.391 149.121 569.173 Q151.042 570.956 154.376 570.956 Q157.709 570.956 159.63 569.173 Q161.552 567.368 161.552 564.266 Q161.552 561.141 159.63 559.358 Q157.732 557.576 154.376 557.576 M149.7 555.585 Q146.691 554.845 145.001 552.784 Q143.334 550.724 143.334 547.761 Q143.334 543.618 146.274 541.21 Q149.237 538.803 154.376 538.803 Q159.538 538.803 162.477 541.21 Q165.417 543.618 165.417 547.761 Q165.417 550.724 163.727 552.784 Q162.061 554.845 159.075 555.585 Q162.454 556.372 164.329 558.664 Q166.227 560.956 166.227 564.266 Q166.227 569.289 163.149 571.974 Q160.093 574.659 154.376 574.659 Q148.658 574.659 145.579 571.974 Q142.524 569.289 142.524 564.266 Q142.524 560.956 144.422 558.664 Q146.32 556.372 149.7 555.585 M147.987 548.201 Q147.987 550.886 149.653 552.391 Q151.343 553.896 154.376 553.896 Q157.385 553.896 159.075 552.391 Q160.788 550.886 160.788 548.201 Q160.788 545.516 159.075 544.011 Q157.385 542.507 154.376 542.507 Q151.343 542.507 149.653 544.011 Q147.987 545.516 147.987 548.201 Z\" fill=\"#000000\" fill-rule=\"nonzero\" fill-opacity=\"1\" /><path clip-path=\"url(#clip490)\" d=\"M114.931 353.435 L122.57 353.435 L122.57 327.069 L114.26 328.736 L114.26 324.477 L122.524 322.81 L127.2 322.81 L127.2 353.435 L134.839 353.435 L134.839 357.37 L114.931 357.37 L114.931 353.435 Z\" fill=\"#000000\" fill-rule=\"nonzero\" fill-opacity=\"1\" /><path clip-path=\"url(#clip490)\" d=\"M154.283 325.889 Q150.672 325.889 148.843 329.454 Q147.038 332.995 147.038 340.125 Q147.038 347.231 148.843 350.796 Q150.672 354.338 154.283 354.338 Q157.917 354.338 159.723 350.796 Q161.552 347.231 161.552 340.125 Q161.552 332.995 159.723 329.454 Q157.917 325.889 154.283 325.889 M154.283 322.185 Q160.093 322.185 163.149 326.792 Q166.227 331.375 166.227 340.125 Q166.227 348.852 163.149 353.458 Q160.093 358.041 154.283 358.041 Q148.473 358.041 145.394 353.458 Q142.339 348.852 142.339 340.125 Q142.339 331.375 145.394 326.792 Q148.473 322.185 154.283 322.185 Z\" fill=\"#000000\" fill-rule=\"nonzero\" fill-opacity=\"1\" /><path clip-path=\"url(#clip490)\" d=\"M116.529 136.817 L124.168 136.817 L124.168 110.451 L115.857 112.118 L115.857 107.859 L124.121 106.192 L128.797 106.192 L128.797 136.817 L136.436 136.817 L136.436 140.752 L116.529 140.752 L116.529 136.817 Z\" fill=\"#000000\" fill-rule=\"nonzero\" fill-opacity=\"1\" /><path clip-path=\"url(#clip490)\" d=\"M149.908 136.817 L166.227 136.817 L166.227 140.752 L144.283 140.752 L144.283 136.817 Q146.945 134.062 151.528 129.433 Q156.135 124.78 157.315 123.437 Q159.561 120.914 160.44 119.178 Q161.343 117.419 161.343 115.729 Q161.343 112.974 159.399 111.238 Q157.478 109.502 154.376 109.502 Q152.177 109.502 149.723 110.266 Q147.292 111.03 144.515 112.581 L144.515 107.859 Q147.339 106.725 149.792 106.146 Q152.246 105.567 154.283 105.567 Q159.653 105.567 162.848 108.252 Q166.042 110.937 166.042 115.428 Q166.042 117.558 165.232 119.479 Q164.445 121.377 162.339 123.97 Q161.76 124.641 158.658 127.859 Q155.556 131.053 149.908 136.817 Z\" fill=\"#000000\" fill-rule=\"nonzero\" fill-opacity=\"1\" /><path clip-path=\"url(#clip490)\" d=\"M67.3143 848.378 Q73.68 850.86 75.6216 853.216 Q77.5631 855.571 77.5631 859.518 L77.5631 864.196 L72.6615 864.196 L72.6615 860.759 Q72.6615 858.34 71.5157 857.003 Q70.3699 855.666 66.1048 854.043 L63.4312 852.993 L28.3562 867.411 L28.3562 861.205 L56.238 850.065 L28.3562 838.925 L28.3562 832.718 L67.3143 848.378 Z\" fill=\"#000000\" fill-rule=\"nonzero\" fill-opacity=\"1\" /><path clip-path=\"url(#clip490)\" d=\"M14.479 824.634 L14.479 818.777 L64.0042 818.777 L64.0042 824.634 L14.479 824.634 Z\" fill=\"#000000\" fill-rule=\"nonzero\" fill-opacity=\"1\" /><path clip-path=\"url(#clip490)\" d=\"M46.0847 790.322 Q46.0847 797.42 47.7079 800.157 Q49.3312 802.895 53.2461 802.895 Q56.3653 802.895 58.2114 800.858 Q60.0256 798.789 60.0256 795.256 Q60.0256 790.386 56.5881 787.458 Q53.1188 784.498 47.3897 784.498 L46.0847 784.498 L46.0847 790.322 M43.6657 778.641 L64.0042 778.641 L64.0042 784.498 L58.5933 784.498 Q61.8398 786.503 63.3994 789.495 Q64.9272 792.487 64.9272 796.815 Q64.9272 802.29 61.8716 805.536 Q58.7843 808.751 53.6281 808.751 Q47.6125 808.751 44.5569 804.741 Q41.5014 800.699 41.5014 792.71 L41.5014 784.498 L40.9285 784.498 Q36.8862 784.498 34.6901 787.171 Q32.4621 789.813 32.4621 794.619 Q32.4621 797.675 33.1941 800.571 Q33.9262 803.468 35.3903 806.141 L29.9795 806.141 Q28.7381 802.927 28.1334 799.903 Q27.4968 796.879 27.4968 794.015 Q27.4968 786.28 31.5072 782.461 Q35.5176 778.641 43.6657 778.641 Z\" fill=\"#000000\" fill-rule=\"nonzero\" fill-opacity=\"1\" /><path clip-path=\"url(#clip490)\" d=\"M46.212 740.988 Q39.7508 740.988 36.0905 743.662 Q32.3984 746.304 32.3984 750.951 Q32.3984 755.597 36.0905 758.271 Q39.7508 760.913 46.212 760.913 Q52.6732 760.913 56.3653 758.271 Q60.0256 755.597 60.0256 750.951 Q60.0256 746.304 56.3653 743.662 Q52.6732 740.988 46.212 740.988 M33.7671 760.913 Q30.5842 759.067 29.0564 756.266 Q27.4968 753.433 27.4968 749.518 Q27.4968 743.025 32.6531 738.983 Q37.8093 734.909 46.212 734.909 Q54.6147 734.909 59.771 738.983 Q64.9272 743.025 64.9272 749.518 Q64.9272 753.433 63.3994 756.266 Q61.8398 759.067 58.657 760.913 L64.0042 760.913 L64.0042 766.801 L14.479 766.801 L14.479 760.913 L33.7671 760.913 Z\" fill=\"#000000\" fill-rule=\"nonzero\" fill-opacity=\"1\" /><path clip-path=\"url(#clip490)\" d=\"M44.7161 694.71 L47.5806 694.71 L47.5806 721.636 Q53.6281 721.255 56.8109 718.008 Q59.9619 714.73 59.9619 708.905 Q59.9619 705.531 59.1344 702.38 Q58.3069 699.197 56.6518 696.078 L62.1899 696.078 Q63.5267 699.229 64.227 702.539 Q64.9272 705.849 64.9272 709.255 Q64.9272 717.785 59.9619 722.782 Q54.9967 727.748 46.5303 727.748 Q37.7774 727.748 32.6531 723.037 Q27.4968 718.294 27.4968 710.274 Q27.4968 703.08 32.1438 698.911 Q36.7589 694.71 44.7161 694.71 M42.9973 700.566 Q38.1912 700.63 35.3266 703.271 Q32.4621 705.881 32.4621 710.21 Q32.4621 715.112 35.2312 718.072 Q38.0002 721 43.0292 721.445 L42.9973 700.566 Z\" fill=\"#000000\" fill-rule=\"nonzero\" fill-opacity=\"1\" /><path clip-path=\"url(#clip490)\" d=\"M14.479 685.097 L14.479 679.241 L64.0042 679.241 L64.0042 685.097 L14.479 685.097 Z\" fill=\"#000000\" fill-rule=\"nonzero\" fill-opacity=\"1\" /><path clip-path=\"url(#clip490)\" d=\"M1212.68 14.324 L1212.68 27.2059 L1228.03 27.2059 L1228.03 32.9987 L1212.68 32.9987 L1212.68 57.6282 Q1212.68 63.1779 1214.18 64.7578 Q1215.72 66.3376 1220.37 66.3376 L1228.03 66.3376 L1228.03 72.576 L1220.37 72.576 Q1211.75 72.576 1208.46 69.3758 Q1205.18 66.1351 1205.18 57.6282 L1205.18 32.9987 L1199.71 32.9987 L1199.71 27.2059 L1205.18 27.2059 L1205.18 14.324 L1212.68 14.324 Z\" fill=\"#000000\" fill-rule=\"nonzero\" fill-opacity=\"1\" /><path clip-path=\"url(#clip490)\" d=\"M1237.83 27.2059 L1245.29 27.2059 L1245.29 72.576 L1237.83 72.576 L1237.83 27.2059 M1237.83 9.54393 L1245.29 9.54393 L1245.29 18.9825 L1237.83 18.9825 L1237.83 9.54393 Z\" fill=\"#000000\" fill-rule=\"nonzero\" fill-opacity=\"1\" /><path clip-path=\"url(#clip490)\" d=\"M1268.26 14.324 L1268.26 27.2059 L1283.61 27.2059 L1283.61 32.9987 L1268.26 32.9987 L1268.26 57.6282 Q1268.26 63.1779 1269.75 64.7578 Q1271.29 66.3376 1275.95 66.3376 L1283.61 66.3376 L1283.61 72.576 L1275.95 72.576 Q1267.32 72.576 1264.04 69.3758 Q1260.76 66.1351 1260.76 57.6282 L1260.76 32.9987 L1255.29 32.9987 L1255.29 27.2059 L1260.76 27.2059 L1260.76 14.324 L1268.26 14.324 Z\" fill=\"#000000\" fill-rule=\"nonzero\" fill-opacity=\"1\" /><path clip-path=\"url(#clip490)\" d=\"M1293.41 9.54393 L1300.87 9.54393 L1300.87 72.576 L1293.41 72.576 L1293.41 9.54393 Z\" fill=\"#000000\" fill-rule=\"nonzero\" fill-opacity=\"1\" /><path clip-path=\"url(#clip490)\" d=\"M1355.27 48.0275 L1355.27 51.6733 L1321 51.6733 Q1321.48 59.3701 1325.62 63.421 Q1329.79 67.4314 1337.2 67.4314 Q1341.5 67.4314 1345.51 66.3781 Q1349.56 65.3249 1353.53 63.2184 L1353.53 70.267 Q1349.52 71.9684 1345.3 72.8596 Q1341.09 73.7508 1336.76 73.7508 Q1325.9 73.7508 1319.54 67.4314 Q1313.22 61.1119 1313.22 50.3365 Q1313.22 39.1965 1319.22 32.6746 Q1325.25 26.1121 1335.46 26.1121 Q1344.62 26.1121 1349.92 32.0264 Q1355.27 37.9003 1355.27 48.0275 M1347.82 45.84 Q1347.73 39.7232 1344.37 36.0774 Q1341.05 32.4315 1335.54 32.4315 Q1329.3 32.4315 1325.54 35.9558 Q1321.81 39.4801 1321.24 45.8805 L1347.82 45.84 Z\" fill=\"#000000\" fill-rule=\"nonzero\" fill-opacity=\"1\" /><path clip-path=\"url(#clip492)\" d=\"M320.51 1098.25 L320.51 1423.18 L387.667 1423.18 L387.667 1098.25 L320.51 1098.25 L320.51 1098.25  Z\" fill=\"#009af9\" fill-rule=\"evenodd\" fill-opacity=\"1\"/>\n",
       "<polyline clip-path=\"url(#clip492)\" style=\"stroke:#000000; stroke-linecap:round; stroke-linejoin:round; stroke-width:4; stroke-opacity:1; fill:none\" points=\"320.51,1098.25 320.51,1423.18 387.667,1423.18 387.667,1098.25 320.51,1098.25 \"/>\n",
       "<path clip-path=\"url(#clip492)\" d=\"M404.456 1314.87 L404.456 1423.18 L471.613 1423.18 L471.613 1314.87 L404.456 1314.87 L404.456 1314.87  Z\" fill=\"#009af9\" fill-rule=\"evenodd\" fill-opacity=\"1\"/>\n",
       "<polyline clip-path=\"url(#clip492)\" style=\"stroke:#000000; stroke-linecap:round; stroke-linejoin:round; stroke-width:4; stroke-opacity:1; fill:none\" points=\"404.456,1314.87 404.456,1423.18 471.613,1423.18 471.613,1314.87 404.456,1314.87 \"/>\n",
       "<path clip-path=\"url(#clip492)\" d=\"M488.402 1314.87 L488.402 1423.18 L555.558 1423.18 L555.558 1314.87 L488.402 1314.87 L488.402 1314.87  Z\" fill=\"#009af9\" fill-rule=\"evenodd\" fill-opacity=\"1\"/>\n",
       "<polyline clip-path=\"url(#clip492)\" style=\"stroke:#000000; stroke-linecap:round; stroke-linejoin:round; stroke-width:4; stroke-opacity:1; fill:none\" points=\"488.402,1314.87 488.402,1423.18 555.558,1423.18 555.558,1314.87 488.402,1314.87 \"/>\n",
       "<path clip-path=\"url(#clip492)\" d=\"M572.348 1206.56 L572.348 1423.18 L639.504 1423.18 L639.504 1206.56 L572.348 1206.56 L572.348 1206.56  Z\" fill=\"#009af9\" fill-rule=\"evenodd\" fill-opacity=\"1\"/>\n",
       "<polyline clip-path=\"url(#clip492)\" style=\"stroke:#000000; stroke-linecap:round; stroke-linejoin:round; stroke-width:4; stroke-opacity:1; fill:none\" points=\"572.348,1206.56 572.348,1423.18 639.504,1423.18 639.504,1206.56 572.348,1206.56 \"/>\n",
       "<path clip-path=\"url(#clip492)\" d=\"M656.293 665.017 L656.293 1423.18 L723.45 1423.18 L723.45 665.017 L656.293 665.017 L656.293 665.017  Z\" fill=\"#009af9\" fill-rule=\"evenodd\" fill-opacity=\"1\"/>\n",
       "<polyline clip-path=\"url(#clip492)\" style=\"stroke:#000000; stroke-linecap:round; stroke-linejoin:round; stroke-width:4; stroke-opacity:1; fill:none\" points=\"656.293,665.017 656.293,1423.18 723.45,1423.18 723.45,665.017 656.293,665.017 \"/>\n",
       "<path clip-path=\"url(#clip492)\" d=\"M740.239 1098.25 L740.239 1423.18 L807.396 1423.18 L807.396 1098.25 L740.239 1098.25 L740.239 1098.25  Z\" fill=\"#009af9\" fill-rule=\"evenodd\" fill-opacity=\"1\"/>\n",
       "<polyline clip-path=\"url(#clip492)\" style=\"stroke:#000000; stroke-linecap:round; stroke-linejoin:round; stroke-width:4; stroke-opacity:1; fill:none\" points=\"740.239,1098.25 740.239,1423.18 807.396,1423.18 807.396,1098.25 740.239,1098.25 \"/>\n",
       "<path clip-path=\"url(#clip492)\" d=\"M824.185 1098.25 L824.185 1423.18 L891.341 1423.18 L891.341 1098.25 L824.185 1098.25 L824.185 1098.25  Z\" fill=\"#009af9\" fill-rule=\"evenodd\" fill-opacity=\"1\"/>\n",
       "<polyline clip-path=\"url(#clip492)\" style=\"stroke:#000000; stroke-linecap:round; stroke-linejoin:round; stroke-width:4; stroke-opacity:1; fill:none\" points=\"824.185,1098.25 824.185,1423.18 891.341,1423.18 891.341,1098.25 824.185,1098.25 \"/>\n",
       "<path clip-path=\"url(#clip492)\" d=\"M908.13 989.944 L908.13 1423.18 L975.287 1423.18 L975.287 989.944 L908.13 989.944 L908.13 989.944  Z\" fill=\"#009af9\" fill-rule=\"evenodd\" fill-opacity=\"1\"/>\n",
       "<polyline clip-path=\"url(#clip492)\" style=\"stroke:#000000; stroke-linecap:round; stroke-linejoin:round; stroke-width:4; stroke-opacity:1; fill:none\" points=\"908.13,989.944 908.13,1423.18 975.287,1423.18 975.287,989.944 908.13,989.944 \"/>\n",
       "<path clip-path=\"url(#clip492)\" d=\"M992.076 881.635 L992.076 1423.18 L1059.23 1423.18 L1059.23 881.635 L992.076 881.635 L992.076 881.635  Z\" fill=\"#009af9\" fill-rule=\"evenodd\" fill-opacity=\"1\"/>\n",
       "<polyline clip-path=\"url(#clip492)\" style=\"stroke:#000000; stroke-linecap:round; stroke-linejoin:round; stroke-width:4; stroke-opacity:1; fill:none\" points=\"992.076,881.635 992.076,1423.18 1059.23,1423.18 1059.23,881.635 992.076,881.635 \"/>\n",
       "<path clip-path=\"url(#clip492)\" d=\"M1076.02 881.635 L1076.02 1423.18 L1143.18 1423.18 L1143.18 881.635 L1076.02 881.635 L1076.02 881.635  Z\" fill=\"#009af9\" fill-rule=\"evenodd\" fill-opacity=\"1\"/>\n",
       "<polyline clip-path=\"url(#clip492)\" style=\"stroke:#000000; stroke-linecap:round; stroke-linejoin:round; stroke-width:4; stroke-opacity:1; fill:none\" points=\"1076.02,881.635 1076.02,1423.18 1143.18,1423.18 1143.18,881.635 1076.02,881.635 \"/>\n",
       "<path clip-path=\"url(#clip492)\" d=\"M1159.97 1206.56 L1159.97 1423.18 L1227.12 1423.18 L1227.12 1206.56 L1159.97 1206.56 L1159.97 1206.56  Z\" fill=\"#009af9\" fill-rule=\"evenodd\" fill-opacity=\"1\"/>\n",
       "<polyline clip-path=\"url(#clip492)\" style=\"stroke:#000000; stroke-linecap:round; stroke-linejoin:round; stroke-width:4; stroke-opacity:1; fill:none\" points=\"1159.97,1206.56 1159.97,1423.18 1227.12,1423.18 1227.12,1206.56 1159.97,1206.56 \"/>\n",
       "<path clip-path=\"url(#clip492)\" d=\"M1243.91 1206.56 L1243.91 1423.18 L1311.07 1423.18 L1311.07 1206.56 L1243.91 1206.56 L1243.91 1206.56  Z\" fill=\"#009af9\" fill-rule=\"evenodd\" fill-opacity=\"1\"/>\n",
       "<polyline clip-path=\"url(#clip492)\" style=\"stroke:#000000; stroke-linecap:round; stroke-linejoin:round; stroke-width:4; stroke-opacity:1; fill:none\" points=\"1243.91,1206.56 1243.91,1423.18 1311.07,1423.18 1311.07,1206.56 1243.91,1206.56 \"/>\n",
       "<path clip-path=\"url(#clip492)\" d=\"M1327.86 1314.87 L1327.86 1423.18 L1395.02 1423.18 L1395.02 1314.87 L1327.86 1314.87 L1327.86 1314.87  Z\" fill=\"#009af9\" fill-rule=\"evenodd\" fill-opacity=\"1\"/>\n",
       "<polyline clip-path=\"url(#clip492)\" style=\"stroke:#000000; stroke-linecap:round; stroke-linejoin:round; stroke-width:4; stroke-opacity:1; fill:none\" points=\"1327.86,1314.87 1327.86,1423.18 1395.02,1423.18 1395.02,1314.87 1327.86,1314.87 \"/>\n",
       "<path clip-path=\"url(#clip492)\" d=\"M1411.8 123.472 L1411.8 1423.18 L1478.96 1423.18 L1478.96 123.472 L1411.8 123.472 L1411.8 123.472  Z\" fill=\"#009af9\" fill-rule=\"evenodd\" fill-opacity=\"1\"/>\n",
       "<polyline clip-path=\"url(#clip492)\" style=\"stroke:#000000; stroke-linecap:round; stroke-linejoin:round; stroke-width:4; stroke-opacity:1; fill:none\" points=\"1411.8,123.472 1411.8,1423.18 1478.96,1423.18 1478.96,123.472 1411.8,123.472 \"/>\n",
       "<path clip-path=\"url(#clip492)\" d=\"M1495.75 1314.87 L1495.75 1423.18 L1562.91 1423.18 L1562.91 1314.87 L1495.75 1314.87 L1495.75 1314.87  Z\" fill=\"#009af9\" fill-rule=\"evenodd\" fill-opacity=\"1\"/>\n",
       "<polyline clip-path=\"url(#clip492)\" style=\"stroke:#000000; stroke-linecap:round; stroke-linejoin:round; stroke-width:4; stroke-opacity:1; fill:none\" points=\"1495.75,1314.87 1495.75,1423.18 1562.91,1423.18 1562.91,1314.87 1495.75,1314.87 \"/>\n",
       "<path clip-path=\"url(#clip492)\" d=\"M1579.7 989.944 L1579.7 1423.18 L1646.85 1423.18 L1646.85 989.944 L1579.7 989.944 L1579.7 989.944  Z\" fill=\"#009af9\" fill-rule=\"evenodd\" fill-opacity=\"1\"/>\n",
       "<polyline clip-path=\"url(#clip492)\" style=\"stroke:#000000; stroke-linecap:round; stroke-linejoin:round; stroke-width:4; stroke-opacity:1; fill:none\" points=\"1579.7,989.944 1579.7,1423.18 1646.85,1423.18 1646.85,989.944 1579.7,989.944 \"/>\n",
       "<path clip-path=\"url(#clip492)\" d=\"M1663.64 1314.87 L1663.64 1423.18 L1730.8 1423.18 L1730.8 1314.87 L1663.64 1314.87 L1663.64 1314.87  Z\" fill=\"#009af9\" fill-rule=\"evenodd\" fill-opacity=\"1\"/>\n",
       "<polyline clip-path=\"url(#clip492)\" style=\"stroke:#000000; stroke-linecap:round; stroke-linejoin:round; stroke-width:4; stroke-opacity:1; fill:none\" points=\"1663.64,1314.87 1663.64,1423.18 1730.8,1423.18 1730.8,1314.87 1663.64,1314.87 \"/>\n",
       "<path clip-path=\"url(#clip492)\" d=\"M1747.59 1314.87 L1747.59 1423.18 L1814.74 1423.18 L1814.74 1314.87 L1747.59 1314.87 L1747.59 1314.87  Z\" fill=\"#009af9\" fill-rule=\"evenodd\" fill-opacity=\"1\"/>\n",
       "<polyline clip-path=\"url(#clip492)\" style=\"stroke:#000000; stroke-linecap:round; stroke-linejoin:round; stroke-width:4; stroke-opacity:1; fill:none\" points=\"1747.59,1314.87 1747.59,1423.18 1814.74,1423.18 1814.74,1314.87 1747.59,1314.87 \"/>\n",
       "<path clip-path=\"url(#clip492)\" d=\"M1831.53 1314.87 L1831.53 1423.18 L1898.69 1423.18 L1898.69 1314.87 L1831.53 1314.87 L1831.53 1314.87  Z\" fill=\"#009af9\" fill-rule=\"evenodd\" fill-opacity=\"1\"/>\n",
       "<polyline clip-path=\"url(#clip492)\" style=\"stroke:#000000; stroke-linecap:round; stroke-linejoin:round; stroke-width:4; stroke-opacity:1; fill:none\" points=\"1831.53,1314.87 1831.53,1423.18 1898.69,1423.18 1898.69,1314.87 1831.53,1314.87 \"/>\n",
       "<path clip-path=\"url(#clip492)\" d=\"M1915.48 1314.87 L1915.48 1423.18 L1982.64 1423.18 L1982.64 1314.87 L1915.48 1314.87 L1915.48 1314.87  Z\" fill=\"#009af9\" fill-rule=\"evenodd\" fill-opacity=\"1\"/>\n",
       "<polyline clip-path=\"url(#clip492)\" style=\"stroke:#000000; stroke-linecap:round; stroke-linejoin:round; stroke-width:4; stroke-opacity:1; fill:none\" points=\"1915.48,1314.87 1915.48,1423.18 1982.64,1423.18 1982.64,1314.87 1915.48,1314.87 \"/>\n",
       "<path clip-path=\"url(#clip492)\" d=\"M1999.42 1314.87 L1999.42 1423.18 L2066.58 1423.18 L2066.58 1314.87 L1999.42 1314.87 L1999.42 1314.87  Z\" fill=\"#009af9\" fill-rule=\"evenodd\" fill-opacity=\"1\"/>\n",
       "<polyline clip-path=\"url(#clip492)\" style=\"stroke:#000000; stroke-linecap:round; stroke-linejoin:round; stroke-width:4; stroke-opacity:1; fill:none\" points=\"1999.42,1314.87 1999.42,1423.18 2066.58,1423.18 2066.58,1314.87 1999.42,1314.87 \"/>\n",
       "<path clip-path=\"url(#clip492)\" d=\"M2083.37 1314.87 L2083.37 1423.18 L2150.53 1423.18 L2150.53 1314.87 L2083.37 1314.87 L2083.37 1314.87  Z\" fill=\"#009af9\" fill-rule=\"evenodd\" fill-opacity=\"1\"/>\n",
       "<polyline clip-path=\"url(#clip492)\" style=\"stroke:#000000; stroke-linecap:round; stroke-linejoin:round; stroke-width:4; stroke-opacity:1; fill:none\" points=\"2083.37,1314.87 2083.37,1423.18 2150.53,1423.18 2150.53,1314.87 2083.37,1314.87 \"/>\n",
       "<path clip-path=\"url(#clip492)\" d=\"M2167.32 1206.56 L2167.32 1423.18 L2234.47 1423.18 L2234.47 1206.56 L2167.32 1206.56 L2167.32 1206.56  Z\" fill=\"#009af9\" fill-rule=\"evenodd\" fill-opacity=\"1\"/>\n",
       "<polyline clip-path=\"url(#clip492)\" style=\"stroke:#000000; stroke-linecap:round; stroke-linejoin:round; stroke-width:4; stroke-opacity:1; fill:none\" points=\"2167.32,1206.56 2167.32,1423.18 2234.47,1423.18 2234.47,1206.56 2167.32,1206.56 \"/>\n",
       "<circle clip-path=\"url(#clip492)\" style=\"fill:#009af9; stroke:none; fill-opacity:0\" cx=\"354.089\" cy=\"1098.25\" r=\"2\"/>\n",
       "<circle clip-path=\"url(#clip492)\" style=\"fill:#009af9; stroke:none; fill-opacity:0\" cx=\"438.034\" cy=\"1314.87\" r=\"2\"/>\n",
       "<circle clip-path=\"url(#clip492)\" style=\"fill:#009af9; stroke:none; fill-opacity:0\" cx=\"521.98\" cy=\"1314.87\" r=\"2\"/>\n",
       "<circle clip-path=\"url(#clip492)\" style=\"fill:#009af9; stroke:none; fill-opacity:0\" cx=\"605.926\" cy=\"1206.56\" r=\"2\"/>\n",
       "<circle clip-path=\"url(#clip492)\" style=\"fill:#009af9; stroke:none; fill-opacity:0\" cx=\"689.872\" cy=\"665.017\" r=\"2\"/>\n",
       "<circle clip-path=\"url(#clip492)\" style=\"fill:#009af9; stroke:none; fill-opacity:0\" cx=\"773.817\" cy=\"1098.25\" r=\"2\"/>\n",
       "<circle clip-path=\"url(#clip492)\" style=\"fill:#009af9; stroke:none; fill-opacity:0\" cx=\"857.763\" cy=\"1098.25\" r=\"2\"/>\n",
       "<circle clip-path=\"url(#clip492)\" style=\"fill:#009af9; stroke:none; fill-opacity:0\" cx=\"941.709\" cy=\"989.944\" r=\"2\"/>\n",
       "<circle clip-path=\"url(#clip492)\" style=\"fill:#009af9; stroke:none; fill-opacity:0\" cx=\"1025.65\" cy=\"881.635\" r=\"2\"/>\n",
       "<circle clip-path=\"url(#clip492)\" style=\"fill:#009af9; stroke:none; fill-opacity:0\" cx=\"1109.6\" cy=\"881.635\" r=\"2\"/>\n",
       "<circle clip-path=\"url(#clip492)\" style=\"fill:#009af9; stroke:none; fill-opacity:0\" cx=\"1193.55\" cy=\"1206.56\" r=\"2\"/>\n",
       "<circle clip-path=\"url(#clip492)\" style=\"fill:#009af9; stroke:none; fill-opacity:0\" cx=\"1277.49\" cy=\"1206.56\" r=\"2\"/>\n",
       "<circle clip-path=\"url(#clip492)\" style=\"fill:#009af9; stroke:none; fill-opacity:0\" cx=\"1361.44\" cy=\"1314.87\" r=\"2\"/>\n",
       "<circle clip-path=\"url(#clip492)\" style=\"fill:#009af9; stroke:none; fill-opacity:0\" cx=\"1445.38\" cy=\"123.472\" r=\"2\"/>\n",
       "<circle clip-path=\"url(#clip492)\" style=\"fill:#009af9; stroke:none; fill-opacity:0\" cx=\"1529.33\" cy=\"1314.87\" r=\"2\"/>\n",
       "<circle clip-path=\"url(#clip492)\" style=\"fill:#009af9; stroke:none; fill-opacity:0\" cx=\"1613.27\" cy=\"989.944\" r=\"2\"/>\n",
       "<circle clip-path=\"url(#clip492)\" style=\"fill:#009af9; stroke:none; fill-opacity:0\" cx=\"1697.22\" cy=\"1314.87\" r=\"2\"/>\n",
       "<circle clip-path=\"url(#clip492)\" style=\"fill:#009af9; stroke:none; fill-opacity:0\" cx=\"1781.17\" cy=\"1314.87\" r=\"2\"/>\n",
       "<circle clip-path=\"url(#clip492)\" style=\"fill:#009af9; stroke:none; fill-opacity:0\" cx=\"1865.11\" cy=\"1314.87\" r=\"2\"/>\n",
       "<circle clip-path=\"url(#clip492)\" style=\"fill:#009af9; stroke:none; fill-opacity:0\" cx=\"1949.06\" cy=\"1314.87\" r=\"2\"/>\n",
       "<circle clip-path=\"url(#clip492)\" style=\"fill:#009af9; stroke:none; fill-opacity:0\" cx=\"2033\" cy=\"1314.87\" r=\"2\"/>\n",
       "<circle clip-path=\"url(#clip492)\" style=\"fill:#009af9; stroke:none; fill-opacity:0\" cx=\"2116.95\" cy=\"1314.87\" r=\"2\"/>\n",
       "<circle clip-path=\"url(#clip492)\" style=\"fill:#009af9; stroke:none; fill-opacity:0\" cx=\"2200.89\" cy=\"1206.56\" r=\"2\"/>\n",
       "<path clip-path=\"url(#clip490)\" d=\"M1960.28 270.476 L2281.07 270.476 L2281.07 166.796 L1960.28 166.796  Z\" fill=\"#ffffff\" fill-rule=\"evenodd\" fill-opacity=\"1\"/>\n",
       "<polyline clip-path=\"url(#clip490)\" style=\"stroke:#000000; stroke-linecap:round; stroke-linejoin:round; stroke-width:4; stroke-opacity:1; fill:none\" points=\"1960.28,270.476 2281.07,270.476 2281.07,166.796 1960.28,166.796 1960.28,270.476 \"/>\n",
       "<path clip-path=\"url(#clip490)\" d=\"M1984.17 239.372 L2127.54 239.372 L2127.54 197.9 L1984.17 197.9 L1984.17 239.372  Z\" fill=\"#009af9\" fill-rule=\"evenodd\" fill-opacity=\"1\"/>\n",
       "<polyline clip-path=\"url(#clip490)\" style=\"stroke:#000000; stroke-linecap:round; stroke-linejoin:round; stroke-width:4; stroke-opacity:1; fill:none\" points=\"1984.17,239.372 2127.54,239.372 2127.54,197.9 1984.17,197.9 1984.17,239.372 \"/>\n",
       "<path clip-path=\"url(#clip490)\" d=\"M2151.44 199.897 L2155.7 199.897 L2155.7 235.916 L2151.44 235.916 L2151.44 199.897 Z\" fill=\"#000000\" fill-rule=\"nonzero\" fill-opacity=\"1\" /><path clip-path=\"url(#clip490)\" d=\"M2176.39 222.883 Q2171.23 222.883 2169.24 224.064 Q2167.25 225.244 2167.25 228.092 Q2167.25 230.36 2168.73 231.703 Q2170.23 233.022 2172.8 233.022 Q2176.34 233.022 2178.47 230.522 Q2180.63 227.999 2180.63 223.832 L2180.63 222.883 L2176.39 222.883 M2184.89 221.124 L2184.89 235.916 L2180.63 235.916 L2180.63 231.981 Q2179.17 234.342 2176.99 235.476 Q2174.82 236.587 2171.67 236.587 Q2167.69 236.587 2165.33 234.365 Q2162.99 232.119 2162.99 228.369 Q2162.99 223.994 2165.9 221.772 Q2168.84 219.55 2174.65 219.55 L2180.63 219.55 L2180.63 219.133 Q2180.63 216.194 2178.68 214.596 Q2176.76 212.976 2173.27 212.976 Q2171.04 212.976 2168.94 213.508 Q2166.83 214.041 2164.89 215.106 L2164.89 211.17 Q2167.22 210.268 2169.42 209.828 Q2171.62 209.365 2173.71 209.365 Q2179.33 209.365 2182.11 212.282 Q2184.89 215.198 2184.89 221.124 Z\" fill=\"#000000\" fill-rule=\"nonzero\" fill-opacity=\"1\" /><path clip-path=\"url(#clip490)\" d=\"M2212.27 222.976 Q2212.27 218.277 2210.33 215.615 Q2208.4 212.93 2205.02 212.93 Q2201.64 212.93 2199.7 215.615 Q2197.78 218.277 2197.78 222.976 Q2197.78 227.675 2199.7 230.36 Q2201.64 233.022 2205.02 233.022 Q2208.4 233.022 2210.33 230.36 Q2212.27 227.675 2212.27 222.976 M2197.78 213.925 Q2199.12 211.61 2201.16 210.499 Q2203.22 209.365 2206.07 209.365 Q2210.79 209.365 2213.73 213.115 Q2216.69 216.865 2216.69 222.976 Q2216.69 229.087 2213.73 232.837 Q2210.79 236.587 2206.07 236.587 Q2203.22 236.587 2201.16 235.476 Q2199.12 234.342 2197.78 232.027 L2197.78 235.916 L2193.5 235.916 L2193.5 199.897 L2197.78 199.897 L2197.78 213.925 Z\" fill=\"#000000\" fill-rule=\"nonzero\" fill-opacity=\"1\" /><path clip-path=\"url(#clip490)\" d=\"M2245.93 221.888 L2245.93 223.971 L2226.34 223.971 Q2226.62 228.369 2228.98 230.684 Q2231.37 232.976 2235.6 232.976 Q2238.06 232.976 2240.35 232.374 Q2242.66 231.772 2244.93 230.569 L2244.93 234.596 Q2242.64 235.568 2240.23 236.078 Q2237.83 236.587 2235.35 236.587 Q2229.14 236.587 2225.51 232.976 Q2221.9 229.365 2221.9 223.207 Q2221.9 216.842 2225.33 213.115 Q2228.77 209.365 2234.61 209.365 Q2239.84 209.365 2242.87 212.745 Q2245.93 216.101 2245.93 221.888 M2241.67 220.638 Q2241.62 217.143 2239.7 215.059 Q2237.8 212.976 2234.65 212.976 Q2231.09 212.976 2228.94 214.99 Q2226.81 217.004 2226.48 220.661 L2241.67 220.638 Z\" fill=\"#000000\" fill-rule=\"nonzero\" fill-opacity=\"1\" /><path clip-path=\"url(#clip490)\" d=\"M2252.92 199.897 L2257.18 199.897 L2257.18 235.916 L2252.92 235.916 L2252.92 199.897 Z\" fill=\"#000000\" fill-rule=\"nonzero\" fill-opacity=\"1\" /></svg>\n"
      ]
     },
     "execution_count": 3,
     "metadata": {},
     "output_type": "execute_result"
    }
   ],
   "source": [
    "s = \"This is the string you need to analyze. Please, do it with care!\"\n",
    "d = character_count(s)\n",
    "# Plot the dictonary\n",
    "plot_dict(d)"
   ]
  },
  {
   "cell_type": "code",
   "execution_count": 7,
   "id": "79677e0f-bf68-4257-96d8-2aabec9df3f1",
   "metadata": {},
   "outputs": [
    {
     "data": {
      "text/plain": [
       "\"This-is-the-string-you-need-to-analyze.-Please,-do-it-with-care!\""
      ]
     },
     "execution_count": 7,
     "metadata": {},
     "output_type": "execute_result"
    }
   ],
   "source": [
    "# works same as python\n",
    "join(split(s, \" \"), \"-\")"
   ]
  },
  {
   "cell_type": "code",
   "execution_count": 10,
   "id": "e39afe04-20ff-4f5b-bc9e-76d00a0db6fd",
   "metadata": {},
   "outputs": [
    {
     "name": "stdout",
     "output_type": "stream",
     "text": [
      "1\n",
      "jkh\n",
      "5\n",
      "6\n"
     ]
    }
   ],
   "source": [
    "# ... collects the arguments in. a turple\n",
    "function printall(args...)\n",
    "    for arg in args\n",
    "        println(arg)\n",
    "    end\n",
    "end\n",
    "\n",
    "printall(1, \"jkh\", 5, 6)"
   ]
  },
  {
   "cell_type": "code",
   "execution_count": null,
   "id": "e38485dc-3e6e-43bf-af84-d7c942298f17",
   "metadata": {},
   "outputs": [],
   "source": []
  }
 ],
 "metadata": {
  "kernelspec": {
   "display_name": "Julia 1.8.5",
   "language": "julia",
   "name": "julia-1.8"
  },
  "language_info": {
   "file_extension": ".jl",
   "mimetype": "application/julia",
   "name": "julia",
   "version": "1.8.5"
  }
 },
 "nbformat": 4,
 "nbformat_minor": 5
}
