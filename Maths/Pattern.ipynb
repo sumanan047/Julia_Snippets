{
 "cells": [
  {
   "cell_type": "code",
   "execution_count": 1,
   "id": "d55f69f8-5621-412b-8fcb-d87652eaaf67",
   "metadata": {},
   "outputs": [
    {
     "data": {
      "text/plain": [
       "print_fibonacci"
      ]
     },
     "execution_count": 1,
     "metadata": {},
     "output_type": "execute_result"
    }
   ],
   "source": [
    "\"\"\"\n",
    "Fibbonacci function return for nth term\n",
    "\"\"\"\n",
    "function fibonacci(n::Int64)\n",
    "  if n == 1\n",
    "    return 1\n",
    "  elseif n == 2\n",
    "    return 1\n",
    "  else\n",
    "    return fibonacci(n-1) + fibonacci(n-2)\n",
    "  end\n",
    "end\n",
    "\n",
    "\"\"\"\n",
    "Prints the fibonacci series\n",
    "\"\"\"\n",
    "function print_fibonacci(n::Int64)\n",
    "    fib_array = []\n",
    "    for i in 1:n\n",
    "        push!(fib_array, fibonacci(i))\n",
    "    end\n",
    "    return fib_array\n",
    "end"
   ]
  },
  {
   "cell_type": "code",
   "execution_count": 2,
   "id": "556515a5-517c-47da-879c-b4ec5571388a",
   "metadata": {},
   "outputs": [
    {
     "data": {
      "image/svg+xml": [
       "<?xml version=\"1.0\" encoding=\"utf-8\"?>\n",
       "<svg xmlns=\"http://www.w3.org/2000/svg\" xmlns:xlink=\"http://www.w3.org/1999/xlink\" width=\"600\" height=\"400\" viewBox=\"0 0 2400 1600\">\n",
       "<defs>\n",
       "  <clipPath id=\"clip080\">\n",
       "    <rect x=\"0\" y=\"0\" width=\"2400\" height=\"1600\"/>\n",
       "  </clipPath>\n",
       "</defs>\n",
       "<path clip-path=\"url(#clip080)\" d=\"M0 1600 L2400 1600 L2400 0 L0 0  Z\" fill=\"#ffffff\" fill-rule=\"evenodd\" fill-opacity=\"1\"/>\n",
       "<defs>\n",
       "  <clipPath id=\"clip081\">\n",
       "    <rect x=\"480\" y=\"0\" width=\"1681\" height=\"1600\"/>\n",
       "  </clipPath>\n",
       "</defs>\n",
       "<path clip-path=\"url(#clip080)\" d=\"M172.015 1486.45 L2352.76 1486.45 L2352.76 47.2441 L172.015 47.2441  Z\" fill=\"#ffffff\" fill-rule=\"evenodd\" fill-opacity=\"1\"/>\n",
       "<defs>\n",
       "  <clipPath id=\"clip082\">\n",
       "    <rect x=\"172\" y=\"47\" width=\"2182\" height=\"1440\"/>\n",
       "  </clipPath>\n",
       "</defs>\n",
       "<polyline clip-path=\"url(#clip082)\" style=\"stroke:#000000; stroke-linecap:round; stroke-linejoin:round; stroke-width:2; stroke-opacity:0.1; fill:none\" points=\"213.276,1486.45 213.276,47.2441 \"/>\n",
       "<polyline clip-path=\"url(#clip082)\" style=\"stroke:#000000; stroke-linecap:round; stroke-linejoin:round; stroke-width:2; stroke-opacity:0.1; fill:none\" points=\"868.969,1486.45 868.969,47.2441 \"/>\n",
       "<polyline clip-path=\"url(#clip082)\" style=\"stroke:#000000; stroke-linecap:round; stroke-linejoin:round; stroke-width:2; stroke-opacity:0.1; fill:none\" points=\"1524.66,1486.45 1524.66,47.2441 \"/>\n",
       "<polyline clip-path=\"url(#clip082)\" style=\"stroke:#000000; stroke-linecap:round; stroke-linejoin:round; stroke-width:2; stroke-opacity:0.1; fill:none\" points=\"2180.36,1486.45 2180.36,47.2441 \"/>\n",
       "<polyline clip-path=\"url(#clip080)\" style=\"stroke:#000000; stroke-linecap:round; stroke-linejoin:round; stroke-width:4; stroke-opacity:1; fill:none\" points=\"172.015,1486.45 2352.76,1486.45 \"/>\n",
       "<polyline clip-path=\"url(#clip080)\" style=\"stroke:#000000; stroke-linecap:round; stroke-linejoin:round; stroke-width:4; stroke-opacity:1; fill:none\" points=\"213.276,1486.45 213.276,1467.55 \"/>\n",
       "<polyline clip-path=\"url(#clip080)\" style=\"stroke:#000000; stroke-linecap:round; stroke-linejoin:round; stroke-width:4; stroke-opacity:1; fill:none\" points=\"868.969,1486.45 868.969,1467.55 \"/>\n",
       "<polyline clip-path=\"url(#clip080)\" style=\"stroke:#000000; stroke-linecap:round; stroke-linejoin:round; stroke-width:4; stroke-opacity:1; fill:none\" points=\"1524.66,1486.45 1524.66,1467.55 \"/>\n",
       "<polyline clip-path=\"url(#clip080)\" style=\"stroke:#000000; stroke-linecap:round; stroke-linejoin:round; stroke-width:4; stroke-opacity:1; fill:none\" points=\"2180.36,1486.45 2180.36,1467.55 \"/>\n",
       "<path clip-path=\"url(#clip080)\" d=\"M213.276 1517.37 Q209.665 1517.37 207.836 1520.93 Q206.031 1524.47 206.031 1531.6 Q206.031 1538.71 207.836 1542.27 Q209.665 1545.82 213.276 1545.82 Q216.911 1545.82 218.716 1542.27 Q220.545 1538.71 220.545 1531.6 Q220.545 1524.47 218.716 1520.93 Q216.911 1517.37 213.276 1517.37 M213.276 1513.66 Q219.086 1513.66 222.142 1518.27 Q225.221 1522.85 225.221 1531.6 Q225.221 1540.33 222.142 1544.94 Q219.086 1549.52 213.276 1549.52 Q207.466 1549.52 204.387 1544.94 Q201.332 1540.33 201.332 1531.6 Q201.332 1522.85 204.387 1518.27 Q207.466 1513.66 213.276 1513.66 Z\" fill=\"#000000\" fill-rule=\"nonzero\" fill-opacity=\"1\" /><path clip-path=\"url(#clip080)\" d=\"M859.247 1514.29 L877.604 1514.29 L877.604 1518.22 L863.53 1518.22 L863.53 1526.7 Q864.548 1526.35 865.567 1526.19 Q866.585 1526 867.604 1526 Q873.391 1526 876.77 1529.17 Q880.15 1532.34 880.15 1537.76 Q880.15 1543.34 876.678 1546.44 Q873.206 1549.52 866.886 1549.52 Q864.71 1549.52 862.442 1549.15 Q860.196 1548.78 857.789 1548.04 L857.789 1543.34 Q859.872 1544.47 862.094 1545.03 Q864.317 1545.58 866.794 1545.58 Q870.798 1545.58 873.136 1543.48 Q875.474 1541.37 875.474 1537.76 Q875.474 1534.15 873.136 1532.04 Q870.798 1529.94 866.794 1529.94 Q864.919 1529.94 863.044 1530.35 Q861.192 1530.77 859.247 1531.65 L859.247 1514.29 Z\" fill=\"#000000\" fill-rule=\"nonzero\" fill-opacity=\"1\" /><path clip-path=\"url(#clip080)\" d=\"M1499.35 1544.91 L1506.99 1544.91 L1506.99 1518.55 L1498.68 1520.21 L1498.68 1515.95 L1506.94 1514.29 L1511.62 1514.29 L1511.62 1544.91 L1519.26 1544.91 L1519.26 1548.85 L1499.35 1548.85 L1499.35 1544.91 Z\" fill=\"#000000\" fill-rule=\"nonzero\" fill-opacity=\"1\" /><path clip-path=\"url(#clip080)\" d=\"M1538.7 1517.37 Q1535.09 1517.37 1533.26 1520.93 Q1531.46 1524.47 1531.46 1531.6 Q1531.46 1538.71 1533.26 1542.27 Q1535.09 1545.82 1538.7 1545.82 Q1542.34 1545.82 1544.14 1542.27 Q1545.97 1538.71 1545.97 1531.6 Q1545.97 1524.47 1544.14 1520.93 Q1542.34 1517.37 1538.7 1517.37 M1538.7 1513.66 Q1544.51 1513.66 1547.57 1518.27 Q1550.65 1522.85 1550.65 1531.6 Q1550.65 1540.33 1547.57 1544.94 Q1544.51 1549.52 1538.7 1549.52 Q1532.89 1549.52 1529.81 1544.94 Q1526.76 1540.33 1526.76 1531.6 Q1526.76 1522.85 1529.81 1518.27 Q1532.89 1513.66 1538.7 1513.66 Z\" fill=\"#000000\" fill-rule=\"nonzero\" fill-opacity=\"1\" /><path clip-path=\"url(#clip080)\" d=\"M2155.54 1544.91 L2163.18 1544.91 L2163.18 1518.55 L2154.87 1520.21 L2154.87 1515.95 L2163.13 1514.29 L2167.81 1514.29 L2167.81 1544.91 L2175.45 1544.91 L2175.45 1548.85 L2155.54 1548.85 L2155.54 1544.91 Z\" fill=\"#000000\" fill-rule=\"nonzero\" fill-opacity=\"1\" /><path clip-path=\"url(#clip080)\" d=\"M2184.94 1514.29 L2203.3 1514.29 L2203.3 1518.22 L2189.22 1518.22 L2189.22 1526.7 Q2190.24 1526.35 2191.26 1526.19 Q2192.28 1526 2193.3 1526 Q2199.08 1526 2202.46 1529.17 Q2205.84 1532.34 2205.84 1537.76 Q2205.84 1543.34 2202.37 1546.44 Q2198.9 1549.52 2192.58 1549.52 Q2190.4 1549.52 2188.13 1549.15 Q2185.89 1548.78 2183.48 1548.04 L2183.48 1543.34 Q2185.56 1544.47 2187.79 1545.03 Q2190.01 1545.58 2192.49 1545.58 Q2196.49 1545.58 2198.83 1543.48 Q2201.17 1541.37 2201.17 1537.76 Q2201.17 1534.15 2198.83 1532.04 Q2196.49 1529.94 2192.49 1529.94 Q2190.61 1529.94 2188.74 1530.35 Q2186.88 1530.77 2184.94 1531.65 L2184.94 1514.29 Z\" fill=\"#000000\" fill-rule=\"nonzero\" fill-opacity=\"1\" /><polyline clip-path=\"url(#clip082)\" style=\"stroke:#000000; stroke-linecap:round; stroke-linejoin:round; stroke-width:2; stroke-opacity:0.1; fill:none\" points=\"172.015,1486.45 2352.76,1486.45 \"/>\n",
       "<polyline clip-path=\"url(#clip082)\" style=\"stroke:#000000; stroke-linecap:round; stroke-linejoin:round; stroke-width:2; stroke-opacity:0.1; fill:none\" points=\"172.015,1250.51 2352.76,1250.51 \"/>\n",
       "<polyline clip-path=\"url(#clip082)\" style=\"stroke:#000000; stroke-linecap:round; stroke-linejoin:round; stroke-width:2; stroke-opacity:0.1; fill:none\" points=\"172.015,1014.58 2352.76,1014.58 \"/>\n",
       "<polyline clip-path=\"url(#clip082)\" style=\"stroke:#000000; stroke-linecap:round; stroke-linejoin:round; stroke-width:2; stroke-opacity:0.1; fill:none\" points=\"172.015,778.643 2352.76,778.643 \"/>\n",
       "<polyline clip-path=\"url(#clip082)\" style=\"stroke:#000000; stroke-linecap:round; stroke-linejoin:round; stroke-width:2; stroke-opacity:0.1; fill:none\" points=\"172.015,542.708 2352.76,542.708 \"/>\n",
       "<polyline clip-path=\"url(#clip082)\" style=\"stroke:#000000; stroke-linecap:round; stroke-linejoin:round; stroke-width:2; stroke-opacity:0.1; fill:none\" points=\"172.015,306.773 2352.76,306.773 \"/>\n",
       "<polyline clip-path=\"url(#clip082)\" style=\"stroke:#000000; stroke-linecap:round; stroke-linejoin:round; stroke-width:2; stroke-opacity:0.1; fill:none\" points=\"172.015,70.8376 2352.76,70.8376 \"/>\n",
       "<polyline clip-path=\"url(#clip080)\" style=\"stroke:#000000; stroke-linecap:round; stroke-linejoin:round; stroke-width:4; stroke-opacity:1; fill:none\" points=\"172.015,1486.45 172.015,47.2441 \"/>\n",
       "<polyline clip-path=\"url(#clip080)\" style=\"stroke:#000000; stroke-linecap:round; stroke-linejoin:round; stroke-width:4; stroke-opacity:1; fill:none\" points=\"172.015,1486.45 190.912,1486.45 \"/>\n",
       "<polyline clip-path=\"url(#clip080)\" style=\"stroke:#000000; stroke-linecap:round; stroke-linejoin:round; stroke-width:4; stroke-opacity:1; fill:none\" points=\"172.015,1250.51 190.912,1250.51 \"/>\n",
       "<polyline clip-path=\"url(#clip080)\" style=\"stroke:#000000; stroke-linecap:round; stroke-linejoin:round; stroke-width:4; stroke-opacity:1; fill:none\" points=\"172.015,1014.58 190.912,1014.58 \"/>\n",
       "<polyline clip-path=\"url(#clip080)\" style=\"stroke:#000000; stroke-linecap:round; stroke-linejoin:round; stroke-width:4; stroke-opacity:1; fill:none\" points=\"172.015,778.643 190.912,778.643 \"/>\n",
       "<polyline clip-path=\"url(#clip080)\" style=\"stroke:#000000; stroke-linecap:round; stroke-linejoin:round; stroke-width:4; stroke-opacity:1; fill:none\" points=\"172.015,542.708 190.912,542.708 \"/>\n",
       "<polyline clip-path=\"url(#clip080)\" style=\"stroke:#000000; stroke-linecap:round; stroke-linejoin:round; stroke-width:4; stroke-opacity:1; fill:none\" points=\"172.015,306.773 190.912,306.773 \"/>\n",
       "<polyline clip-path=\"url(#clip080)\" style=\"stroke:#000000; stroke-linecap:round; stroke-linejoin:round; stroke-width:4; stroke-opacity:1; fill:none\" points=\"172.015,70.8376 190.912,70.8376 \"/>\n",
       "<path clip-path=\"url(#clip080)\" d=\"M124.07 1472.25 Q120.459 1472.25 118.631 1475.81 Q116.825 1479.35 116.825 1486.48 Q116.825 1493.59 118.631 1497.15 Q120.459 1500.7 124.07 1500.7 Q127.705 1500.7 129.51 1497.15 Q131.339 1493.59 131.339 1486.48 Q131.339 1479.35 129.51 1475.81 Q127.705 1472.25 124.07 1472.25 M124.07 1468.54 Q129.881 1468.54 132.936 1473.15 Q136.015 1477.73 136.015 1486.48 Q136.015 1495.21 132.936 1499.82 Q129.881 1504.4 124.07 1504.4 Q118.26 1504.4 115.182 1499.82 Q112.126 1495.21 112.126 1486.48 Q112.126 1477.73 115.182 1473.15 Q118.26 1468.54 124.07 1468.54 Z\" fill=\"#000000\" fill-rule=\"nonzero\" fill-opacity=\"1\" /><path clip-path=\"url(#clip080)\" d=\"M54.5569 1263.86 L62.1958 1263.86 L62.1958 1237.49 L53.8856 1239.16 L53.8856 1234.9 L62.1495 1233.23 L66.8254 1233.23 L66.8254 1263.86 L74.4642 1263.86 L74.4642 1267.79 L54.5569 1267.79 L54.5569 1263.86 Z\" fill=\"#000000\" fill-rule=\"nonzero\" fill-opacity=\"1\" /><path clip-path=\"url(#clip080)\" d=\"M93.9086 1236.31 Q90.2975 1236.31 88.4688 1239.88 Q86.6632 1243.42 86.6632 1250.55 Q86.6632 1257.65 88.4688 1261.22 Q90.2975 1264.76 93.9086 1264.76 Q97.5428 1264.76 99.3483 1261.22 Q101.177 1257.65 101.177 1250.55 Q101.177 1243.42 99.3483 1239.88 Q97.5428 1236.31 93.9086 1236.31 M93.9086 1232.61 Q99.7187 1232.61 102.774 1237.21 Q105.853 1241.8 105.853 1250.55 Q105.853 1259.27 102.774 1263.88 Q99.7187 1268.46 93.9086 1268.46 Q88.0984 1268.46 85.0197 1263.88 Q81.9642 1259.27 81.9642 1250.55 Q81.9642 1241.8 85.0197 1237.21 Q88.0984 1232.61 93.9086 1232.61 Z\" fill=\"#000000\" fill-rule=\"nonzero\" fill-opacity=\"1\" /><path clip-path=\"url(#clip080)\" d=\"M124.07 1236.31 Q120.459 1236.31 118.631 1239.88 Q116.825 1243.42 116.825 1250.55 Q116.825 1257.65 118.631 1261.22 Q120.459 1264.76 124.07 1264.76 Q127.705 1264.76 129.51 1261.22 Q131.339 1257.65 131.339 1250.55 Q131.339 1243.42 129.51 1239.88 Q127.705 1236.31 124.07 1236.31 M124.07 1232.61 Q129.881 1232.61 132.936 1237.21 Q136.015 1241.8 136.015 1250.55 Q136.015 1259.27 132.936 1263.88 Q129.881 1268.46 124.07 1268.46 Q118.26 1268.46 115.182 1263.88 Q112.126 1259.27 112.126 1250.55 Q112.126 1241.8 115.182 1237.21 Q118.26 1232.61 124.07 1232.61 Z\" fill=\"#000000\" fill-rule=\"nonzero\" fill-opacity=\"1\" /><path clip-path=\"url(#clip080)\" d=\"M57.7745 1027.92 L74.0939 1027.92 L74.0939 1031.86 L52.1495 1031.86 L52.1495 1027.92 Q54.8115 1025.17 59.3949 1020.54 Q64.0013 1015.89 65.1819 1014.54 Q67.4272 1012.02 68.3068 1010.28 Q69.2096 1008.52 69.2096 1006.83 Q69.2096 1004.08 67.2652 1002.34 Q65.3439 1000.61 62.2421 1000.61 Q60.043 1000.61 57.5893 1001.37 Q55.1588 1002.14 52.381 1003.69 L52.381 998.964 Q55.2051 997.83 57.6588 997.251 Q60.1124 996.673 62.1495 996.673 Q67.5198 996.673 70.7142 999.358 Q73.9087 1002.04 73.9087 1006.53 Q73.9087 1008.66 73.0985 1010.58 Q72.3115 1012.48 70.205 1015.08 Q69.6263 1015.75 66.5245 1018.96 Q63.4226 1022.16 57.7745 1027.92 Z\" fill=\"#000000\" fill-rule=\"nonzero\" fill-opacity=\"1\" /><path clip-path=\"url(#clip080)\" d=\"M93.9086 1000.38 Q90.2975 1000.38 88.4688 1003.94 Q86.6632 1007.48 86.6632 1014.61 Q86.6632 1021.72 88.4688 1025.28 Q90.2975 1028.83 93.9086 1028.83 Q97.5428 1028.83 99.3483 1025.28 Q101.177 1021.72 101.177 1014.61 Q101.177 1007.48 99.3483 1003.94 Q97.5428 1000.38 93.9086 1000.38 M93.9086 996.673 Q99.7187 996.673 102.774 1001.28 Q105.853 1005.86 105.853 1014.61 Q105.853 1023.34 102.774 1027.95 Q99.7187 1032.53 93.9086 1032.53 Q88.0984 1032.53 85.0197 1027.95 Q81.9642 1023.34 81.9642 1014.61 Q81.9642 1005.86 85.0197 1001.28 Q88.0984 996.673 93.9086 996.673 Z\" fill=\"#000000\" fill-rule=\"nonzero\" fill-opacity=\"1\" /><path clip-path=\"url(#clip080)\" d=\"M124.07 1000.38 Q120.459 1000.38 118.631 1003.94 Q116.825 1007.48 116.825 1014.61 Q116.825 1021.72 118.631 1025.28 Q120.459 1028.83 124.07 1028.83 Q127.705 1028.83 129.51 1025.28 Q131.339 1021.72 131.339 1014.61 Q131.339 1007.48 129.51 1003.94 Q127.705 1000.38 124.07 1000.38 M124.07 996.673 Q129.881 996.673 132.936 1001.28 Q136.015 1005.86 136.015 1014.61 Q136.015 1023.34 132.936 1027.95 Q129.881 1032.53 124.07 1032.53 Q118.26 1032.53 115.182 1027.95 Q112.126 1023.34 112.126 1014.61 Q112.126 1005.86 115.182 1001.28 Q118.26 996.673 124.07 996.673 Z\" fill=\"#000000\" fill-rule=\"nonzero\" fill-opacity=\"1\" /><path clip-path=\"url(#clip080)\" d=\"M67.9133 777.289 Q71.2698 778.006 73.1448 780.275 Q75.0429 782.543 75.0429 785.876 Q75.0429 790.992 71.5244 793.793 Q68.0059 796.594 61.5245 796.594 Q59.3486 796.594 57.0338 796.154 Q54.7421 795.738 52.2884 794.881 L52.2884 790.367 Q54.2328 791.501 56.5477 792.08 Q58.8625 792.659 61.3856 792.659 Q65.7837 792.659 68.0754 790.923 Q70.3902 789.187 70.3902 785.876 Q70.3902 782.821 68.2374 781.108 Q66.1078 779.372 62.2884 779.372 L58.2606 779.372 L58.2606 775.529 L62.4735 775.529 Q65.9226 775.529 67.7513 774.164 Q69.58 772.775 69.58 770.182 Q69.58 767.52 67.6819 766.108 Q65.8069 764.673 62.2884 764.673 Q60.3671 764.673 58.168 765.09 Q55.969 765.506 53.3301 766.386 L53.3301 762.219 Q55.9921 761.478 58.3069 761.108 Q60.6449 760.738 62.705 760.738 Q68.0291 760.738 71.1309 763.168 Q74.2327 765.576 74.2327 769.696 Q74.2327 772.566 72.5892 774.557 Q70.9457 776.525 67.9133 777.289 Z\" fill=\"#000000\" fill-rule=\"nonzero\" fill-opacity=\"1\" /><path clip-path=\"url(#clip080)\" d=\"M93.9086 764.441 Q90.2975 764.441 88.4688 768.006 Q86.6632 771.548 86.6632 778.677 Q86.6632 785.784 88.4688 789.349 Q90.2975 792.89 93.9086 792.89 Q97.5428 792.89 99.3483 789.349 Q101.177 785.784 101.177 778.677 Q101.177 771.548 99.3483 768.006 Q97.5428 764.441 93.9086 764.441 M93.9086 760.738 Q99.7187 760.738 102.774 765.344 Q105.853 769.928 105.853 778.677 Q105.853 787.404 102.774 792.011 Q99.7187 796.594 93.9086 796.594 Q88.0984 796.594 85.0197 792.011 Q81.9642 787.404 81.9642 778.677 Q81.9642 769.928 85.0197 765.344 Q88.0984 760.738 93.9086 760.738 Z\" fill=\"#000000\" fill-rule=\"nonzero\" fill-opacity=\"1\" /><path clip-path=\"url(#clip080)\" d=\"M124.07 764.441 Q120.459 764.441 118.631 768.006 Q116.825 771.548 116.825 778.677 Q116.825 785.784 118.631 789.349 Q120.459 792.89 124.07 792.89 Q127.705 792.89 129.51 789.349 Q131.339 785.784 131.339 778.677 Q131.339 771.548 129.51 768.006 Q127.705 764.441 124.07 764.441 M124.07 760.738 Q129.881 760.738 132.936 765.344 Q136.015 769.928 136.015 778.677 Q136.015 787.404 132.936 792.011 Q129.881 796.594 124.07 796.594 Q118.26 796.594 115.182 792.011 Q112.126 787.404 112.126 778.677 Q112.126 769.928 115.182 765.344 Q118.26 760.738 124.07 760.738 Z\" fill=\"#000000\" fill-rule=\"nonzero\" fill-opacity=\"1\" /><path clip-path=\"url(#clip080)\" d=\"M66.5939 529.502 L54.7884 547.951 L66.5939 547.951 L66.5939 529.502 M65.367 525.428 L71.2466 525.428 L71.2466 547.951 L76.1772 547.951 L76.1772 551.84 L71.2466 551.84 L71.2466 559.988 L66.5939 559.988 L66.5939 551.84 L50.9921 551.84 L50.9921 547.326 L65.367 525.428 Z\" fill=\"#000000\" fill-rule=\"nonzero\" fill-opacity=\"1\" /><path clip-path=\"url(#clip080)\" d=\"M93.9086 528.506 Q90.2975 528.506 88.4688 532.071 Q86.6632 535.613 86.6632 542.742 Q86.6632 549.849 88.4688 553.414 Q90.2975 556.955 93.9086 556.955 Q97.5428 556.955 99.3483 553.414 Q101.177 549.849 101.177 542.742 Q101.177 535.613 99.3483 532.071 Q97.5428 528.506 93.9086 528.506 M93.9086 524.803 Q99.7187 524.803 102.774 529.409 Q105.853 533.992 105.853 542.742 Q105.853 551.469 102.774 556.076 Q99.7187 560.659 93.9086 560.659 Q88.0984 560.659 85.0197 556.076 Q81.9642 551.469 81.9642 542.742 Q81.9642 533.992 85.0197 529.409 Q88.0984 524.803 93.9086 524.803 Z\" fill=\"#000000\" fill-rule=\"nonzero\" fill-opacity=\"1\" /><path clip-path=\"url(#clip080)\" d=\"M124.07 528.506 Q120.459 528.506 118.631 532.071 Q116.825 535.613 116.825 542.742 Q116.825 549.849 118.631 553.414 Q120.459 556.955 124.07 556.955 Q127.705 556.955 129.51 553.414 Q131.339 549.849 131.339 542.742 Q131.339 535.613 129.51 532.071 Q127.705 528.506 124.07 528.506 M124.07 524.803 Q129.881 524.803 132.936 529.409 Q136.015 533.992 136.015 542.742 Q136.015 551.469 132.936 556.076 Q129.881 560.659 124.07 560.659 Q118.26 560.659 115.182 556.076 Q112.126 551.469 112.126 542.742 Q112.126 533.992 115.182 529.409 Q118.26 524.803 124.07 524.803 Z\" fill=\"#000000\" fill-rule=\"nonzero\" fill-opacity=\"1\" /><path clip-path=\"url(#clip080)\" d=\"M53.793 289.493 L72.1494 289.493 L72.1494 293.428 L58.0754 293.428 L58.0754 301.9 Q59.0939 301.553 60.1124 301.391 Q61.131 301.206 62.1495 301.206 Q67.9365 301.206 71.3161 304.377 Q74.6957 307.548 74.6957 312.965 Q74.6957 318.543 71.2235 321.645 Q67.7513 324.724 61.4319 324.724 Q59.256 324.724 56.9875 324.354 Q54.7421 323.983 52.3347 323.242 L52.3347 318.543 Q54.418 319.678 56.6402 320.233 Q58.8625 320.789 61.3393 320.789 Q65.3439 320.789 67.6819 318.682 Q70.0198 316.576 70.0198 312.965 Q70.0198 309.354 67.6819 307.247 Q65.3439 305.141 61.3393 305.141 Q59.4643 305.141 57.5893 305.557 Q55.7375 305.974 53.793 306.854 L53.793 289.493 Z\" fill=\"#000000\" fill-rule=\"nonzero\" fill-opacity=\"1\" /><path clip-path=\"url(#clip080)\" d=\"M93.9086 292.571 Q90.2975 292.571 88.4688 296.136 Q86.6632 299.678 86.6632 306.807 Q86.6632 313.914 88.4688 317.479 Q90.2975 321.02 93.9086 321.02 Q97.5428 321.02 99.3483 317.479 Q101.177 313.914 101.177 306.807 Q101.177 299.678 99.3483 296.136 Q97.5428 292.571 93.9086 292.571 M93.9086 288.868 Q99.7187 288.868 102.774 293.474 Q105.853 298.057 105.853 306.807 Q105.853 315.534 102.774 320.141 Q99.7187 324.724 93.9086 324.724 Q88.0984 324.724 85.0197 320.141 Q81.9642 315.534 81.9642 306.807 Q81.9642 298.057 85.0197 293.474 Q88.0984 288.868 93.9086 288.868 Z\" fill=\"#000000\" fill-rule=\"nonzero\" fill-opacity=\"1\" /><path clip-path=\"url(#clip080)\" d=\"M124.07 292.571 Q120.459 292.571 118.631 296.136 Q116.825 299.678 116.825 306.807 Q116.825 313.914 118.631 317.479 Q120.459 321.02 124.07 321.02 Q127.705 321.02 129.51 317.479 Q131.339 313.914 131.339 306.807 Q131.339 299.678 129.51 296.136 Q127.705 292.571 124.07 292.571 M124.07 288.868 Q129.881 288.868 132.936 293.474 Q136.015 298.057 136.015 306.807 Q136.015 315.534 132.936 320.141 Q129.881 324.724 124.07 324.724 Q118.26 324.724 115.182 320.141 Q112.126 315.534 112.126 306.807 Q112.126 298.057 115.182 293.474 Q118.26 288.868 124.07 288.868 Z\" fill=\"#000000\" fill-rule=\"nonzero\" fill-opacity=\"1\" /><path clip-path=\"url(#clip080)\" d=\"M64.3254 68.9742 Q61.1773 68.9742 59.3254 71.1269 Q57.4967 73.2797 57.4967 77.0297 Q57.4967 80.7565 59.3254 82.9324 Q61.1773 85.0852 64.3254 85.0852 Q67.4735 85.0852 69.3022 82.9324 Q71.1541 80.7565 71.1541 77.0297 Q71.1541 73.2797 69.3022 71.1269 Q67.4735 68.9742 64.3254 68.9742 M73.6077 54.3215 L73.6077 58.5807 Q71.8485 57.7474 70.0429 57.3076 Q68.2606 56.8678 66.5013 56.8678 Q61.8717 56.8678 59.418 59.9927 Q56.9875 63.1177 56.6402 69.4371 Q58.006 67.4233 60.0662 66.3585 Q62.1263 65.2705 64.6032 65.2705 Q69.8115 65.2705 72.8207 68.4418 Q75.8531 71.5899 75.8531 77.0297 Q75.8531 82.3537 72.705 85.5713 Q69.5568 88.7889 64.3254 88.7889 Q58.33 88.7889 55.1588 84.2056 Q51.9875 79.5991 51.9875 70.8723 Q51.9875 62.6779 55.8764 57.8168 Q59.7652 52.9326 66.3161 52.9326 Q68.0754 52.9326 69.8578 53.2798 Q71.6633 53.627 73.6077 54.3215 Z\" fill=\"#000000\" fill-rule=\"nonzero\" fill-opacity=\"1\" /><path clip-path=\"url(#clip080)\" d=\"M93.9086 56.6363 Q90.2975 56.6363 88.4688 60.2011 Q86.6632 63.7427 86.6632 70.8723 Q86.6632 77.9788 88.4688 81.5436 Q90.2975 85.0852 93.9086 85.0852 Q97.5428 85.0852 99.3483 81.5436 Q101.177 77.9788 101.177 70.8723 Q101.177 63.7427 99.3483 60.2011 Q97.5428 56.6363 93.9086 56.6363 M93.9086 52.9326 Q99.7187 52.9326 102.774 57.5391 Q105.853 62.1224 105.853 70.8723 Q105.853 79.5991 102.774 84.2056 Q99.7187 88.7889 93.9086 88.7889 Q88.0984 88.7889 85.0197 84.2056 Q81.9642 79.5991 81.9642 70.8723 Q81.9642 62.1224 85.0197 57.5391 Q88.0984 52.9326 93.9086 52.9326 Z\" fill=\"#000000\" fill-rule=\"nonzero\" fill-opacity=\"1\" /><path clip-path=\"url(#clip080)\" d=\"M124.07 56.6363 Q120.459 56.6363 118.631 60.2011 Q116.825 63.7427 116.825 70.8723 Q116.825 77.9788 118.631 81.5436 Q120.459 85.0852 124.07 85.0852 Q127.705 85.0852 129.51 81.5436 Q131.339 77.9788 131.339 70.8723 Q131.339 63.7427 129.51 60.2011 Q127.705 56.6363 124.07 56.6363 M124.07 52.9326 Q129.881 52.9326 132.936 57.5391 Q136.015 62.1224 136.015 70.8723 Q136.015 79.5991 132.936 84.2056 Q129.881 88.7889 124.07 88.7889 Q118.26 88.7889 115.182 84.2056 Q112.126 79.5991 112.126 70.8723 Q112.126 62.1224 115.182 57.5391 Q118.26 52.9326 124.07 52.9326 Z\" fill=\"#000000\" fill-rule=\"nonzero\" fill-opacity=\"1\" /><path clip-path=\"url(#clip082)\" d=\"M291.959 1484.09 L291.959 1486.45 L396.87 1486.45 L396.87 1484.09 L291.959 1484.09 L291.959 1484.09  Z\" fill=\"#009af9\" fill-rule=\"evenodd\" fill-opacity=\"1\"/>\n",
       "<polyline clip-path=\"url(#clip082)\" style=\"stroke:#000000; stroke-linecap:round; stroke-linejoin:round; stroke-width:4; stroke-opacity:1; fill:none\" points=\"291.959,1484.09 291.959,1486.45 396.87,1486.45 396.87,1484.09 291.959,1484.09 \"/>\n",
       "<path clip-path=\"url(#clip082)\" d=\"M423.098 1484.09 L423.098 1486.45 L528.009 1486.45 L528.009 1484.09 L423.098 1484.09 L423.098 1484.09  Z\" fill=\"#009af9\" fill-rule=\"evenodd\" fill-opacity=\"1\"/>\n",
       "<polyline clip-path=\"url(#clip082)\" style=\"stroke:#000000; stroke-linecap:round; stroke-linejoin:round; stroke-width:4; stroke-opacity:1; fill:none\" points=\"423.098,1484.09 423.098,1486.45 528.009,1486.45 528.009,1484.09 423.098,1484.09 \"/>\n",
       "<path clip-path=\"url(#clip082)\" d=\"M554.237 1481.73 L554.237 1486.45 L659.148 1486.45 L659.148 1481.73 L554.237 1481.73 L554.237 1481.73  Z\" fill=\"#009af9\" fill-rule=\"evenodd\" fill-opacity=\"1\"/>\n",
       "<polyline clip-path=\"url(#clip082)\" style=\"stroke:#000000; stroke-linecap:round; stroke-linejoin:round; stroke-width:4; stroke-opacity:1; fill:none\" points=\"554.237,1481.73 554.237,1486.45 659.148,1486.45 659.148,1481.73 554.237,1481.73 \"/>\n",
       "<path clip-path=\"url(#clip082)\" d=\"M685.375 1479.37 L685.375 1486.45 L790.286 1486.45 L790.286 1479.37 L685.375 1479.37 L685.375 1479.37  Z\" fill=\"#009af9\" fill-rule=\"evenodd\" fill-opacity=\"1\"/>\n",
       "<polyline clip-path=\"url(#clip082)\" style=\"stroke:#000000; stroke-linecap:round; stroke-linejoin:round; stroke-width:4; stroke-opacity:1; fill:none\" points=\"685.375,1479.37 685.375,1486.45 790.286,1486.45 790.286,1479.37 685.375,1479.37 \"/>\n",
       "<path clip-path=\"url(#clip082)\" d=\"M816.514 1474.65 L816.514 1486.45 L921.425 1486.45 L921.425 1474.65 L816.514 1474.65 L816.514 1474.65  Z\" fill=\"#009af9\" fill-rule=\"evenodd\" fill-opacity=\"1\"/>\n",
       "<polyline clip-path=\"url(#clip082)\" style=\"stroke:#000000; stroke-linecap:round; stroke-linejoin:round; stroke-width:4; stroke-opacity:1; fill:none\" points=\"816.514,1474.65 816.514,1486.45 921.425,1486.45 921.425,1474.65 816.514,1474.65 \"/>\n",
       "<path clip-path=\"url(#clip082)\" d=\"M947.653 1467.57 L947.653 1486.45 L1052.56 1486.45 L1052.56 1467.57 L947.653 1467.57 L947.653 1467.57  Z\" fill=\"#009af9\" fill-rule=\"evenodd\" fill-opacity=\"1\"/>\n",
       "<polyline clip-path=\"url(#clip082)\" style=\"stroke:#000000; stroke-linecap:round; stroke-linejoin:round; stroke-width:4; stroke-opacity:1; fill:none\" points=\"947.653,1467.57 947.653,1486.45 1052.56,1486.45 1052.56,1467.57 947.653,1467.57 \"/>\n",
       "<path clip-path=\"url(#clip082)\" d=\"M1078.79 1455.78 L1078.79 1486.45 L1183.7 1486.45 L1183.7 1455.78 L1078.79 1455.78 L1078.79 1455.78  Z\" fill=\"#009af9\" fill-rule=\"evenodd\" fill-opacity=\"1\"/>\n",
       "<polyline clip-path=\"url(#clip082)\" style=\"stroke:#000000; stroke-linecap:round; stroke-linejoin:round; stroke-width:4; stroke-opacity:1; fill:none\" points=\"1078.79,1455.78 1078.79,1486.45 1183.7,1486.45 1183.7,1455.78 1078.79,1455.78 \"/>\n",
       "<path clip-path=\"url(#clip082)\" d=\"M1209.93 1436.9 L1209.93 1486.45 L1314.84 1486.45 L1314.84 1436.9 L1209.93 1436.9 L1209.93 1436.9  Z\" fill=\"#009af9\" fill-rule=\"evenodd\" fill-opacity=\"1\"/>\n",
       "<polyline clip-path=\"url(#clip082)\" style=\"stroke:#000000; stroke-linecap:round; stroke-linejoin:round; stroke-width:4; stroke-opacity:1; fill:none\" points=\"1209.93,1436.9 1209.93,1486.45 1314.84,1486.45 1314.84,1436.9 1209.93,1436.9 \"/>\n",
       "<path clip-path=\"url(#clip082)\" d=\"M1341.07 1406.23 L1341.07 1486.45 L1445.98 1486.45 L1445.98 1406.23 L1341.07 1406.23 L1341.07 1406.23  Z\" fill=\"#009af9\" fill-rule=\"evenodd\" fill-opacity=\"1\"/>\n",
       "<polyline clip-path=\"url(#clip082)\" style=\"stroke:#000000; stroke-linecap:round; stroke-linejoin:round; stroke-width:4; stroke-opacity:1; fill:none\" points=\"1341.07,1406.23 1341.07,1486.45 1445.98,1486.45 1445.98,1406.23 1341.07,1406.23 \"/>\n",
       "<path clip-path=\"url(#clip082)\" d=\"M1472.21 1356.68 L1472.21 1486.45 L1577.12 1486.45 L1577.12 1356.68 L1472.21 1356.68 L1472.21 1356.68  Z\" fill=\"#009af9\" fill-rule=\"evenodd\" fill-opacity=\"1\"/>\n",
       "<polyline clip-path=\"url(#clip082)\" style=\"stroke:#000000; stroke-linecap:round; stroke-linejoin:round; stroke-width:4; stroke-opacity:1; fill:none\" points=\"1472.21,1356.68 1472.21,1486.45 1577.12,1486.45 1577.12,1356.68 1472.21,1356.68 \"/>\n",
       "<path clip-path=\"url(#clip082)\" d=\"M1603.35 1276.47 L1603.35 1486.45 L1708.26 1486.45 L1708.26 1276.47 L1603.35 1276.47 L1603.35 1276.47  Z\" fill=\"#009af9\" fill-rule=\"evenodd\" fill-opacity=\"1\"/>\n",
       "<polyline clip-path=\"url(#clip082)\" style=\"stroke:#000000; stroke-linecap:round; stroke-linejoin:round; stroke-width:4; stroke-opacity:1; fill:none\" points=\"1603.35,1276.47 1603.35,1486.45 1708.26,1486.45 1708.26,1276.47 1603.35,1276.47 \"/>\n",
       "<path clip-path=\"url(#clip082)\" d=\"M1734.48 1146.7 L1734.48 1486.45 L1839.4 1486.45 L1839.4 1146.7 L1734.48 1146.7 L1734.48 1146.7  Z\" fill=\"#009af9\" fill-rule=\"evenodd\" fill-opacity=\"1\"/>\n",
       "<polyline clip-path=\"url(#clip082)\" style=\"stroke:#000000; stroke-linecap:round; stroke-linejoin:round; stroke-width:4; stroke-opacity:1; fill:none\" points=\"1734.48,1146.7 1734.48,1486.45 1839.4,1486.45 1839.4,1146.7 1734.48,1146.7 \"/>\n",
       "<path clip-path=\"url(#clip082)\" d=\"M1865.62 936.719 L1865.62 1486.45 L1970.53 1486.45 L1970.53 936.719 L1865.62 936.719 L1865.62 936.719  Z\" fill=\"#009af9\" fill-rule=\"evenodd\" fill-opacity=\"1\"/>\n",
       "<polyline clip-path=\"url(#clip082)\" style=\"stroke:#000000; stroke-linecap:round; stroke-linejoin:round; stroke-width:4; stroke-opacity:1; fill:none\" points=\"1865.62,936.719 1865.62,1486.45 1970.53,1486.45 1970.53,936.719 1865.62,936.719 \"/>\n",
       "<path clip-path=\"url(#clip082)\" d=\"M1996.76 596.973 L1996.76 1486.45 L2101.67 1486.45 L2101.67 596.973 L1996.76 596.973 L1996.76 596.973  Z\" fill=\"#009af9\" fill-rule=\"evenodd\" fill-opacity=\"1\"/>\n",
       "<polyline clip-path=\"url(#clip082)\" style=\"stroke:#000000; stroke-linecap:round; stroke-linejoin:round; stroke-width:4; stroke-opacity:1; fill:none\" points=\"1996.76,596.973 1996.76,1486.45 2101.67,1486.45 2101.67,596.973 1996.76,596.973 \"/>\n",
       "<path clip-path=\"url(#clip082)\" d=\"M2127.9 47.2441 L2127.9 1486.45 L2232.81 1486.45 L2232.81 47.2441 L2127.9 47.2441 L2127.9 47.2441  Z\" fill=\"#009af9\" fill-rule=\"evenodd\" fill-opacity=\"1\"/>\n",
       "<polyline clip-path=\"url(#clip082)\" style=\"stroke:#000000; stroke-linecap:round; stroke-linejoin:round; stroke-width:4; stroke-opacity:1; fill:none\" points=\"2127.9,47.2441 2127.9,1486.45 2232.81,1486.45 2232.81,47.2441 2127.9,47.2441 \"/>\n",
       "<circle clip-path=\"url(#clip082)\" style=\"fill:#009af9; stroke:none; fill-opacity:0\" cx=\"344.415\" cy=\"1484.09\" r=\"2\"/>\n",
       "<circle clip-path=\"url(#clip082)\" style=\"fill:#009af9; stroke:none; fill-opacity:0\" cx=\"475.554\" cy=\"1484.09\" r=\"2\"/>\n",
       "<circle clip-path=\"url(#clip082)\" style=\"fill:#009af9; stroke:none; fill-opacity:0\" cx=\"606.692\" cy=\"1481.73\" r=\"2\"/>\n",
       "<circle clip-path=\"url(#clip082)\" style=\"fill:#009af9; stroke:none; fill-opacity:0\" cx=\"737.831\" cy=\"1479.37\" r=\"2\"/>\n",
       "<circle clip-path=\"url(#clip082)\" style=\"fill:#009af9; stroke:none; fill-opacity:0\" cx=\"868.969\" cy=\"1474.65\" r=\"2\"/>\n",
       "<circle clip-path=\"url(#clip082)\" style=\"fill:#009af9; stroke:none; fill-opacity:0\" cx=\"1000.11\" cy=\"1467.57\" r=\"2\"/>\n",
       "<circle clip-path=\"url(#clip082)\" style=\"fill:#009af9; stroke:none; fill-opacity:0\" cx=\"1131.25\" cy=\"1455.78\" r=\"2\"/>\n",
       "<circle clip-path=\"url(#clip082)\" style=\"fill:#009af9; stroke:none; fill-opacity:0\" cx=\"1262.39\" cy=\"1436.9\" r=\"2\"/>\n",
       "<circle clip-path=\"url(#clip082)\" style=\"fill:#009af9; stroke:none; fill-opacity:0\" cx=\"1393.52\" cy=\"1406.23\" r=\"2\"/>\n",
       "<circle clip-path=\"url(#clip082)\" style=\"fill:#009af9; stroke:none; fill-opacity:0\" cx=\"1524.66\" cy=\"1356.68\" r=\"2\"/>\n",
       "<circle clip-path=\"url(#clip082)\" style=\"fill:#009af9; stroke:none; fill-opacity:0\" cx=\"1655.8\" cy=\"1276.47\" r=\"2\"/>\n",
       "<circle clip-path=\"url(#clip082)\" style=\"fill:#009af9; stroke:none; fill-opacity:0\" cx=\"1786.94\" cy=\"1146.7\" r=\"2\"/>\n",
       "<circle clip-path=\"url(#clip082)\" style=\"fill:#009af9; stroke:none; fill-opacity:0\" cx=\"1918.08\" cy=\"936.719\" r=\"2\"/>\n",
       "<circle clip-path=\"url(#clip082)\" style=\"fill:#009af9; stroke:none; fill-opacity:0\" cx=\"2049.22\" cy=\"596.973\" r=\"2\"/>\n",
       "<circle clip-path=\"url(#clip082)\" style=\"fill:#009af9; stroke:none; fill-opacity:0\" cx=\"2180.36\" cy=\"47.2441\" r=\"2\"/>\n",
       "<path clip-path=\"url(#clip080)\" d=\"M244.706 198.898 L515.211 198.898 L515.211 95.2176 L244.706 95.2176  Z\" fill=\"#ffffff\" fill-rule=\"evenodd\" fill-opacity=\"1\"/>\n",
       "<polyline clip-path=\"url(#clip080)\" style=\"stroke:#000000; stroke-linecap:round; stroke-linejoin:round; stroke-width:4; stroke-opacity:1; fill:none\" points=\"244.706,198.898 515.211,198.898 515.211,95.2176 244.706,95.2176 244.706,198.898 \"/>\n",
       "<path clip-path=\"url(#clip080)\" d=\"M268.937 167.794 L414.319 167.794 L414.319 126.322 L268.937 126.322 L268.937 167.794  Z\" fill=\"#009af9\" fill-rule=\"evenodd\" fill-opacity=\"1\"/>\n",
       "<polyline clip-path=\"url(#clip080)\" style=\"stroke:#000000; stroke-linecap:round; stroke-linejoin:round; stroke-width:4; stroke-opacity:1; fill:none\" points=\"268.937,167.794 414.319,167.794 414.319,126.322 268.937,126.322 268.937,167.794 \"/>\n",
       "<path clip-path=\"url(#clip080)\" d=\"M452.392 166.745 Q450.587 171.375 448.874 172.787 Q447.161 174.199 444.291 174.199 L440.888 174.199 L440.888 170.634 L443.388 170.634 Q445.147 170.634 446.119 169.8 Q447.091 168.967 448.272 165.865 L449.036 163.921 L438.55 138.412 L443.064 138.412 L451.166 158.689 L459.267 138.412 L463.781 138.412 L452.392 166.745 Z\" fill=\"#000000\" fill-rule=\"nonzero\" fill-opacity=\"1\" /><path clip-path=\"url(#clip080)\" d=\"M471.073 160.402 L478.712 160.402 L478.712 134.037 L470.402 135.703 L470.402 131.444 L478.665 129.778 L483.341 129.778 L483.341 160.402 L490.98 160.402 L490.98 164.338 L471.073 164.338 L471.073 160.402 Z\" fill=\"#000000\" fill-rule=\"nonzero\" fill-opacity=\"1\" /></svg>\n"
      ]
     },
     "execution_count": 2,
     "metadata": {},
     "output_type": "execute_result"
    }
   ],
   "source": [
    "using Plots\n",
    "bar(print_fibonacci(15))"
   ]
  },
  {
   "cell_type": "code",
   "execution_count": null,
   "id": "f1801697-7238-42ae-9974-57c64f905462",
   "metadata": {},
   "outputs": [],
   "source": []
  }
 ],
 "metadata": {
  "kernelspec": {
   "display_name": "Julia 1.8.5",
   "language": "julia",
   "name": "julia-1.8"
  },
  "language_info": {
   "file_extension": ".jl",
   "mimetype": "application/julia",
   "name": "julia",
   "version": "1.8.5"
  }
 },
 "nbformat": 4,
 "nbformat_minor": 5
}
