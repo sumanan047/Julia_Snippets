{
 "cells": [
  {
   "cell_type": "code",
   "execution_count": null,
   "id": "d55f69f8-5621-412b-8fcb-d87652eaaf67",
   "metadata": {},
   "outputs": [],
   "source": [
    "\"\"\"\n",
    "Fibbonacci function return for nth term\n",
    "\"\"\"\n",
    "function fibonacci(n)\n",
    "  if n == 1\n",
    "    return 1\n",
    "  elseif n == 2\n",
    "    return 1\n",
    "  else\n",
    "    return fibonacci(n-1) + fibonacci(n-2)\n",
    "  end\n",
    "end"
   ]
  },
  {
   "cell_type": "code",
   "execution_count": null,
   "id": "a6d33777-1067-4aaa-bc70-1079ea8188ec",
   "metadata": {},
   "outputs": [],
   "source": [
    "fibonnacci"
   ]
  }
 ],
 "metadata": {
  "kernelspec": {
   "display_name": "Julia 1.8.5",
   "language": "julia",
   "name": "julia-1.8"
  },
  "language_info": {
   "file_extension": ".jl",
   "mimetype": "application/julia",
   "name": "julia",
   "version": "1.8.5"
  }
 },
 "nbformat": 4,
 "nbformat_minor": 5
}
